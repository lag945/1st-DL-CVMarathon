{
 "cells": [
  {
   "cell_type": "markdown",
   "metadata": {},
   "source": [
    "## 『本次練習內容』\n",
    "#### 運用這幾天所學觀念搭建一個CNN分類器"
   ]
  },
  {
   "cell_type": "markdown",
   "metadata": {},
   "source": [
    "## 『本次練習目的』\n",
    "  #### 熟悉CNN分類器搭建步驟與原理\n",
    "  #### 學員們可以嘗試不同搭法，如使用不同的Maxpooling層，用GlobalAveragePooling取代Flatten等等"
   ]
  },
  {
   "cell_type": "code",
   "execution_count": 1,
   "metadata": {},
   "outputs": [
    {
     "name": "stderr",
     "output_type": "stream",
     "text": [
      "Using TensorFlow backend.\n"
     ]
    }
   ],
   "source": [
    "from keras.models import Sequential\n",
    "from keras.layers import Convolution2D\n",
    "from keras.layers import MaxPooling2D\n",
    "from keras.layers import Flatten\n",
    "from keras.layers import Dense\n",
    "from keras.layers import Dropout\n",
    "from keras.layers import BatchNormalization\n",
    "from keras.datasets import cifar10\n",
    "import numpy as np\n",
    "import tensorflow as tf\n",
    "from sklearn.preprocessing import OneHotEncoder\n",
    "from keras import regularizers"
   ]
  },
  {
   "cell_type": "code",
   "execution_count": 2,
   "metadata": {},
   "outputs": [
    {
     "name": "stdout",
     "output_type": "stream",
     "text": [
      "(50000, 32, 32, 3)\n"
     ]
    }
   ],
   "source": [
    "(x_train, y_train), (x_test, y_test) = cifar10.load_data() # x是圖片,y是答案label\n",
    "\n",
    "print(x_train.shape) #(50000, 32, 32, 3)\n",
    "\n",
    "## Normalize Data\n",
    "def normalize(X_train,X_test):\n",
    "        mean = np.mean(X_train,axis=(0,1,2,3))\n",
    "        std = np.std(X_train, axis=(0, 1, 2, 3))\n",
    "        X_train = (X_train-mean)/(std+1e-7)\n",
    "        X_test = (X_test-mean)/(std+1e-7) \n",
    "        return X_train, X_test,mean,std\n",
    "    \n",
    "    \n",
    "## Normalize Training and Testset    \n",
    "x_train, x_test,mean_train,std_train = normalize(x_train, x_test) "
   ]
  },
  {
   "cell_type": "code",
   "execution_count": 3,
   "metadata": {},
   "outputs": [
    {
     "data": {
      "text/plain": [
       "<Figure size 200x200 with 1 Axes>"
      ]
     },
     "metadata": {},
     "output_type": "display_data"
    },
    {
     "name": "stdout",
     "output_type": "stream",
     "text": [
      "[6]\n"
     ]
    }
   ],
   "source": [
    "#Cifar-10 的所有圖片被分為 10 個類別 (以 0~9 數字作為 Label 之編碼) :\n",
    "#0 : airplain (飛機)\n",
    "#1 : automobile (汽車)\n",
    "#2 : bird (鳥)\n",
    "#3 : cat (貓)\n",
    "#4 : deer (鹿)\n",
    "#5 : dog (狗)\n",
    "#6 : frog (青蛙)\n",
    "#7 : horse (馬)\n",
    "#8 : ship (船)\n",
    "#9 : truck (卡車)\n",
    "(x_train, y_train), (x_test, y_test) = cifar10.load_data() # x是圖片,y是答案label\n",
    "import matplotlib.pyplot as plt\n",
    "\n",
    "def plot_image(image):\n",
    "    fig=plt.gcf()\n",
    "    fig.set_size_inches(2, 2)                          \n",
    "    plt.imshow(image, cmap='binary')\n",
    "    plt.show()\n",
    "\n",
    "plot_image(x_train[0])\n",
    "print(y_train[0]) "
   ]
  },
  {
   "cell_type": "code",
   "execution_count": 4,
   "metadata": {},
   "outputs": [
    {
     "name": "stderr",
     "output_type": "stream",
     "text": [
      "C:\\Users\\User\\Anaconda3\\lib\\site-packages\\sklearn\\preprocessing\\_encoders.py:415: FutureWarning: The handling of integer data will change in version 0.22. Currently, the categories are determined based on the range [0, max(values)], while in the future they will be determined based on the unique values.\n",
      "If you want the future behaviour and silence this warning, you can specify \"categories='auto'\".\n",
      "In case you used a LabelEncoder before this OneHotEncoder to convert the categories to integers, then you can now use the OneHotEncoder directly.\n",
      "  warnings.warn(msg, FutureWarning)\n"
     ]
    }
   ],
   "source": [
    "## OneHot Label 由(None, 1)-(None, 10)\n",
    "## ex. label=2,變成[0,0,1,0,0,0,0,0,0,0]\n",
    "one_hot=OneHotEncoder()\n",
    "y_train=one_hot.fit_transform(y_train).toarray()\n",
    "y_test=one_hot.transform(y_test).toarray()"
   ]
  },
  {
   "cell_type": "code",
   "execution_count": 5,
   "metadata": {},
   "outputs": [
    {
     "name": "stdout",
     "output_type": "stream",
     "text": [
      "WARNING:tensorflow:From C:\\Users\\User\\Anaconda3\\lib\\site-packages\\keras\\backend\\tensorflow_backend.py:74: The name tf.get_default_graph is deprecated. Please use tf.compat.v1.get_default_graph instead.\n",
      "\n",
      "WARNING:tensorflow:From C:\\Users\\User\\Anaconda3\\lib\\site-packages\\keras\\backend\\tensorflow_backend.py:517: The name tf.placeholder is deprecated. Please use tf.compat.v1.placeholder instead.\n",
      "\n",
      "WARNING:tensorflow:From C:\\Users\\User\\Anaconda3\\lib\\site-packages\\keras\\backend\\tensorflow_backend.py:4138: The name tf.random_uniform is deprecated. Please use tf.random.uniform instead.\n",
      "\n",
      "WARNING:tensorflow:From C:\\Users\\User\\Anaconda3\\lib\\site-packages\\keras\\backend\\tensorflow_backend.py:174: The name tf.get_default_session is deprecated. Please use tf.compat.v1.get_default_session instead.\n",
      "\n",
      "WARNING:tensorflow:From C:\\Users\\User\\Anaconda3\\lib\\site-packages\\keras\\backend\\tensorflow_backend.py:181: The name tf.ConfigProto is deprecated. Please use tf.compat.v1.ConfigProto instead.\n",
      "\n",
      "WARNING:tensorflow:From C:\\Users\\User\\Anaconda3\\lib\\site-packages\\keras\\backend\\tensorflow_backend.py:186: The name tf.Session is deprecated. Please use tf.compat.v1.Session instead.\n",
      "\n",
      "WARNING:tensorflow:From C:\\Users\\User\\Anaconda3\\lib\\site-packages\\keras\\backend\\tensorflow_backend.py:190: The name tf.global_variables is deprecated. Please use tf.compat.v1.global_variables instead.\n",
      "\n",
      "WARNING:tensorflow:From C:\\Users\\User\\Anaconda3\\lib\\site-packages\\keras\\backend\\tensorflow_backend.py:199: The name tf.is_variable_initialized is deprecated. Please use tf.compat.v1.is_variable_initialized instead.\n",
      "\n",
      "WARNING:tensorflow:From C:\\Users\\User\\Anaconda3\\lib\\site-packages\\keras\\backend\\tensorflow_backend.py:206: The name tf.variables_initializer is deprecated. Please use tf.compat.v1.variables_initializer instead.\n",
      "\n",
      "WARNING:tensorflow:From C:\\Users\\User\\Anaconda3\\lib\\site-packages\\keras\\backend\\tensorflow_backend.py:1834: The name tf.nn.fused_batch_norm is deprecated. Please use tf.compat.v1.nn.fused_batch_norm instead.\n",
      "\n",
      "WARNING:tensorflow:From C:\\Users\\User\\Anaconda3\\lib\\site-packages\\keras\\backend\\tensorflow_backend.py:133: The name tf.placeholder_with_default is deprecated. Please use tf.compat.v1.placeholder_with_default instead.\n",
      "\n",
      "WARNING:tensorflow:From C:\\Users\\User\\Anaconda3\\lib\\site-packages\\keras\\backend\\tensorflow_backend.py:3976: The name tf.nn.max_pool is deprecated. Please use tf.nn.max_pool2d instead.\n",
      "\n",
      "WARNING:tensorflow:From C:\\Users\\User\\Anaconda3\\lib\\site-packages\\keras\\backend\\tensorflow_backend.py:3445: calling dropout (from tensorflow.python.ops.nn_ops) with keep_prob is deprecated and will be removed in a future version.\n",
      "Instructions for updating:\n",
      "Please use `rate` instead of `keep_prob`. Rate should be set to `rate = 1 - keep_prob`.\n",
      "WARNING:tensorflow:From C:\\Users\\User\\Anaconda3\\lib\\site-packages\\keras\\optimizers.py:790: The name tf.train.Optimizer is deprecated. Please use tf.compat.v1.train.Optimizer instead.\n",
      "\n",
      "WARNING:tensorflow:From C:\\Users\\User\\Anaconda3\\lib\\site-packages\\keras\\backend\\tensorflow_backend.py:3295: The name tf.log is deprecated. Please use tf.math.log instead.\n",
      "\n"
     ]
    }
   ],
   "source": [
    "classifier=Sequential()\n",
    "\n",
    "#卷積組合\n",
    "classifier.add(Convolution2D(32,(3,3),input_shape=(32,32,3),activation='relu'))\n",
    "classifier.add(BatchNormalization())##BatchNormalization\n",
    "classifier.add(MaxPooling2D(pool_size=(2,2)))\n",
    "\n",
    "#卷積組合\n",
    "classifier.add(Convolution2D(32,(3,3),activation='relu'))\n",
    "classifier.add(BatchNormalization())##BatchNormalization\n",
    "classifier.add(MaxPooling2D(pool_size=(2,2)))\n",
    "\n",
    "#flatten\n",
    "classifier.add(Flatten())\n",
    "\n",
    "#FC\n",
    "classifier.add(Dense(units=100,activation='relu',kernel_regularizer=regularizers.l2(l=0.001))) ##regularizers\n",
    "classifier.add(BatchNormalization()) ##BatchNormalization\n",
    "classifier.add(Dropout(rate=0.5)) ##Dropout\n",
    "\n",
    "classifier.add(Dense(units=100,activation='relu',kernel_regularizer=regularizers.l2(0.001)))##regularizers\n",
    "classifier.add(BatchNormalization()) ##BatchNormalization\n",
    "\n",
    "classifier.add(Dropout(rate=0.3))##Dropout\n",
    "\n",
    "classifier.add(Dense(units=10,activation='softmax'))\n",
    "#超過兩個就要選categorical_crossentrophy\n",
    "classifier.compile(optimizer = 'adam', loss = 'categorical_crossentropy', metrics = ['accuracy'])\n",
    "from keras.preprocessing.image import ImageDataGenerator ##Augmentation\n",
    "img_gen = ImageDataGenerator( featurewise_center=True,featurewise_std_normalization=True,rotation_range=10,width_shift_range=0.1,\n",
    "                                            height_shift_range=0.1,shear_range=0.1,zoom_range=0.1,horizontal_flip=True,vertical_flip=False,dtype=np.float32)\n",
    "img_gen.fit(x_train)\n",
    "from keras.callbacks import EarlyStopping\n",
    "earlystop = EarlyStopping(monitor='test_loss', patience=8, verbose=1) ##earlystop\n"
   ]
  },
  {
   "cell_type": "code",
   "execution_count": 9,
   "metadata": {},
   "outputs": [
    {
     "name": "stdout",
     "output_type": "stream",
     "text": [
      "3.7.4 (default, Aug  9 2019, 18:34:13) [MSC v.1915 64 bit (AMD64)]\n",
      "2.1.0\n",
      "WARNING:tensorflow:From <ipython-input-9-a0e46a2f8859>:6: is_gpu_available (from tensorflow.python.framework.test_util) is deprecated and will be removed in a future version.\n",
      "Instructions for updating:\n",
      "Use `tf.config.list_physical_devices('GPU')` instead.\n",
      "True\n",
      "Num GPUs Available:  1\n"
     ]
    },
    {
     "ename": "RuntimeError",
     "evalue": "Device placement logging must be set at program startup",
     "output_type": "error",
     "traceback": [
      "\u001b[1;31m---------------------------------------------------------------------------\u001b[0m",
      "\u001b[1;31mRuntimeError\u001b[0m                              Traceback (most recent call last)",
      "\u001b[1;32m<ipython-input-9-a0e46a2f8859>\u001b[0m in \u001b[0;36m<module>\u001b[1;34m\u001b[0m\n\u001b[0;32m      6\u001b[0m \u001b[0mprint\u001b[0m\u001b[1;33m(\u001b[0m\u001b[0mtf\u001b[0m\u001b[1;33m.\u001b[0m\u001b[0mtest\u001b[0m\u001b[1;33m.\u001b[0m\u001b[0mis_gpu_available\u001b[0m\u001b[1;33m(\u001b[0m\u001b[1;33m)\u001b[0m\u001b[1;33m)\u001b[0m\u001b[1;33m\u001b[0m\u001b[1;33m\u001b[0m\u001b[0m\n\u001b[0;32m      7\u001b[0m \u001b[0mprint\u001b[0m\u001b[1;33m(\u001b[0m\u001b[1;34m\"Num GPUs Available: \"\u001b[0m\u001b[1;33m,\u001b[0m \u001b[0mlen\u001b[0m\u001b[1;33m(\u001b[0m\u001b[0mtf\u001b[0m\u001b[1;33m.\u001b[0m\u001b[0mconfig\u001b[0m\u001b[1;33m.\u001b[0m\u001b[0mlist_physical_devices\u001b[0m\u001b[1;33m(\u001b[0m\u001b[1;34m'GPU'\u001b[0m\u001b[1;33m)\u001b[0m\u001b[1;33m)\u001b[0m\u001b[1;33m)\u001b[0m\u001b[1;33m\u001b[0m\u001b[1;33m\u001b[0m\u001b[0m\n\u001b[1;32m----> 8\u001b[1;33m \u001b[0mtf\u001b[0m\u001b[1;33m.\u001b[0m\u001b[0mdebugging\u001b[0m\u001b[1;33m.\u001b[0m\u001b[0mset_log_device_placement\u001b[0m\u001b[1;33m(\u001b[0m\u001b[1;32mTrue\u001b[0m\u001b[1;33m)\u001b[0m\u001b[1;33m\u001b[0m\u001b[1;33m\u001b[0m\u001b[0m\n\u001b[0m\u001b[0;32m      9\u001b[0m \u001b[1;33m\u001b[0m\u001b[0m\n\u001b[0;32m     10\u001b[0m \u001b[1;31m# Create some tensors\u001b[0m\u001b[1;33m\u001b[0m\u001b[1;33m\u001b[0m\u001b[1;33m\u001b[0m\u001b[0m\n",
      "\u001b[1;32m~\\Anaconda3\\lib\\site-packages\\tensorflow_core\\python\\eager\\context.py\u001b[0m in \u001b[0;36mset_log_device_placement\u001b[1;34m(enabled)\u001b[0m\n\u001b[0;32m   1853\u001b[0m     \u001b[0menabled\u001b[0m\u001b[1;33m:\u001b[0m \u001b[0mWhether\u001b[0m \u001b[0mto\u001b[0m \u001b[0menabled\u001b[0m \u001b[0mdevice\u001b[0m \u001b[0mplacement\u001b[0m \u001b[0mlogging\u001b[0m\u001b[1;33m.\u001b[0m\u001b[1;33m\u001b[0m\u001b[1;33m\u001b[0m\u001b[0m\n\u001b[0;32m   1854\u001b[0m   \"\"\"\n\u001b[1;32m-> 1855\u001b[1;33m   \u001b[0mcontext\u001b[0m\u001b[1;33m(\u001b[0m\u001b[1;33m)\u001b[0m\u001b[1;33m.\u001b[0m\u001b[0mlog_device_placement\u001b[0m \u001b[1;33m=\u001b[0m \u001b[0menabled\u001b[0m\u001b[1;33m\u001b[0m\u001b[1;33m\u001b[0m\u001b[0m\n\u001b[0m\u001b[0;32m   1856\u001b[0m \u001b[1;33m\u001b[0m\u001b[0m\n\u001b[0;32m   1857\u001b[0m \u001b[1;33m\u001b[0m\u001b[0m\n",
      "\u001b[1;32m~\\Anaconda3\\lib\\site-packages\\tensorflow_core\\python\\eager\\context.py\u001b[0m in \u001b[0;36mlog_device_placement\u001b[1;34m(self, enabled)\u001b[0m\n\u001b[0;32m   1403\u001b[0m     \u001b[1;32mif\u001b[0m \u001b[0mself\u001b[0m\u001b[1;33m.\u001b[0m\u001b[0m_context_handle\u001b[0m \u001b[1;32mis\u001b[0m \u001b[1;32mnot\u001b[0m \u001b[1;32mNone\u001b[0m\u001b[1;33m:\u001b[0m\u001b[1;33m\u001b[0m\u001b[1;33m\u001b[0m\u001b[0m\n\u001b[0;32m   1404\u001b[0m       raise RuntimeError(\n\u001b[1;32m-> 1405\u001b[1;33m           \"Device placement logging must be set at program startup\")\n\u001b[0m\u001b[0;32m   1406\u001b[0m \u001b[1;33m\u001b[0m\u001b[0m\n\u001b[0;32m   1407\u001b[0m     \u001b[0mself\u001b[0m\u001b[1;33m.\u001b[0m\u001b[0m_log_device_placement\u001b[0m \u001b[1;33m=\u001b[0m \u001b[0menabled\u001b[0m\u001b[1;33m\u001b[0m\u001b[1;33m\u001b[0m\u001b[0m\n",
      "\u001b[1;31mRuntimeError\u001b[0m: Device placement logging must be set at program startup"
     ]
    }
   ],
   "source": [
    "from __future__ import absolute_import, division, print_function, unicode_literals\n",
    "import sys\n",
    "import tensorflow as tf\n",
    "print(sys.version)#3.7.3\n",
    "print(tf.__version__)\n",
    "print(tf.test.is_gpu_available())\n",
    "print(\"Num GPUs Available: \", len(tf.config.list_physical_devices('GPU')))\n",
    "tf.debugging.set_log_device_placement(True)\n",
    "\n",
    "# Create some tensors\n",
    "a = tf.constant([[1.0, 2.0, 3.0], [4.0, 5.0, 6.0]])\n",
    "b = tf.constant([[1.0, 2.0], [3.0, 4.0], [5.0, 6.0]])\n",
    "c = tf.matmul(a, b)\n",
    "\n",
    "print(c)"
   ]
  },
  {
   "cell_type": "code",
   "execution_count": 6,
   "metadata": {
    "scrolled": true
   },
   "outputs": [
    {
     "name": "stdout",
     "output_type": "stream",
     "text": [
      "WARNING:tensorflow:From C:\\Users\\User\\Anaconda3\\lib\\site-packages\\tensorflow_core\\python\\ops\\math_grad.py:1424: where (from tensorflow.python.ops.array_ops) is deprecated and will be removed in a future version.\n",
      "Instructions for updating:\n",
      "Use tf.where in 2.0, which has the same broadcast rule as np.where\n",
      "WARNING:tensorflow:From C:\\Users\\User\\Anaconda3\\lib\\site-packages\\keras\\backend\\tensorflow_backend.py:986: The name tf.assign_add is deprecated. Please use tf.compat.v1.assign_add instead.\n",
      "\n",
      "WARNING:tensorflow:From C:\\Users\\User\\Anaconda3\\lib\\site-packages\\keras\\backend\\tensorflow_backend.py:973: The name tf.assign is deprecated. Please use tf.compat.v1.assign instead.\n",
      "\n",
      "Epoch 1/100\n",
      "500/500 [==============================] - 20s 40ms/step - loss: 2.1206 - acc: 0.3515 - val_loss: 13.1222 - val_acc: 0.1835\n",
      "Epoch 2/100\n",
      "  7/500 [..............................] - ETA: 9s - loss: 1.7853 - acc: 0.4357 "
     ]
    },
    {
     "name": "stderr",
     "output_type": "stream",
     "text": [
      "C:\\Users\\User\\Anaconda3\\lib\\site-packages\\keras\\callbacks.py:569: RuntimeWarning: Early stopping conditioned on metric `test_loss` which is not available. Available metrics are: val_loss,val_acc,loss,acc\n",
      "  (self.monitor, ','.join(list(logs.keys()))), RuntimeWarning\n"
     ]
    },
    {
     "name": "stdout",
     "output_type": "stream",
     "text": [
      "500/500 [==============================] - 18s 36ms/step - loss: 1.6634 - acc: 0.4818 - val_loss: 12.0219 - val_acc: 0.2360\n",
      "Epoch 3/100\n",
      "500/500 [==============================] - 18s 36ms/step - loss: 1.4717 - acc: 0.5423 - val_loss: 11.6672 - val_acc: 0.2625\n",
      "Epoch 4/100\n",
      "500/500 [==============================] - 18s 36ms/step - loss: 1.3585 - acc: 0.5789 - val_loss: 11.0194 - val_acc: 0.2956\n",
      "Epoch 5/100\n",
      "500/500 [==============================] - 18s 36ms/step - loss: 1.2890 - acc: 0.5958 - val_loss: 11.9785 - val_acc: 0.2407\n",
      "Epoch 6/100\n",
      "500/500 [==============================] - 18s 36ms/step - loss: 1.2368 - acc: 0.6131 - val_loss: 12.4327 - val_acc: 0.2177\n",
      "Epoch 7/100\n",
      "500/500 [==============================] - 18s 36ms/step - loss: 1.2115 - acc: 0.6202 - val_loss: 12.3989 - val_acc: 0.2238\n",
      "Epoch 8/100\n",
      "500/500 [==============================] - 18s 36ms/step - loss: 1.1895 - acc: 0.6279 - val_loss: 12.9185 - val_acc: 0.1929\n",
      "Epoch 9/100\n",
      "500/500 [==============================] - 18s 36ms/step - loss: 1.1689 - acc: 0.6345 - val_loss: 11.8441 - val_acc: 0.2531\n",
      "Epoch 10/100\n",
      "500/500 [==============================] - 18s 36ms/step - loss: 1.1533 - acc: 0.6415 - val_loss: 10.7046 - val_acc: 0.3153\n",
      "Epoch 11/100\n",
      "500/500 [==============================] - 18s 36ms/step - loss: 1.1397 - acc: 0.6480 - val_loss: 12.4500 - val_acc: 0.2109\n",
      "Epoch 12/100\n",
      "500/500 [==============================] - 18s 36ms/step - loss: 1.1343 - acc: 0.6504 - val_loss: 12.2521 - val_acc: 0.2312\n",
      "Epoch 13/100\n",
      "500/500 [==============================] - 18s 36ms/step - loss: 1.1255 - acc: 0.6506 - val_loss: 11.3722 - val_acc: 0.2798\n",
      "Epoch 14/100\n",
      "500/500 [==============================] - 18s 36ms/step - loss: 1.1130 - acc: 0.6571 - val_loss: 10.6054 - val_acc: 0.3204\n",
      "Epoch 15/100\n",
      "500/500 [==============================] - 18s 36ms/step - loss: 1.1045 - acc: 0.6603 - val_loss: 11.2047 - val_acc: 0.2814\n",
      "Epoch 16/100\n",
      "500/500 [==============================] - 18s 36ms/step - loss: 1.1007 - acc: 0.6614 - val_loss: 10.7360 - val_acc: 0.3137\n",
      "Epoch 17/100\n",
      "500/500 [==============================] - 18s 36ms/step - loss: 1.0950 - acc: 0.6621 - val_loss: 11.5845 - val_acc: 0.2669\n",
      "Epoch 18/100\n",
      "500/500 [==============================] - 18s 36ms/step - loss: 1.0896 - acc: 0.6661 - val_loss: 11.1703 - val_acc: 0.2830\n",
      "Epoch 19/100\n",
      "500/500 [==============================] - 18s 36ms/step - loss: 1.0834 - acc: 0.6682 - val_loss: 10.5524 - val_acc: 0.3225\n",
      "Epoch 20/100\n",
      "500/500 [==============================] - 18s 36ms/step - loss: 1.0815 - acc: 0.6707 - val_loss: 11.1227 - val_acc: 0.2929\n",
      "Epoch 21/100\n",
      "500/500 [==============================] - 18s 36ms/step - loss: 1.0746 - acc: 0.6705 - val_loss: 10.9300 - val_acc: 0.3066\n",
      "Epoch 22/100\n",
      "500/500 [==============================] - 18s 36ms/step - loss: 1.0682 - acc: 0.6743 - val_loss: 10.7186 - val_acc: 0.3121\n",
      "Epoch 23/100\n",
      "500/500 [==============================] - 18s 36ms/step - loss: 1.0635 - acc: 0.6744 - val_loss: 10.4805 - val_acc: 0.3268\n",
      "Epoch 24/100\n",
      "500/500 [==============================] - 18s 36ms/step - loss: 1.0690 - acc: 0.6732 - val_loss: 11.9924 - val_acc: 0.2490\n",
      "Epoch 25/100\n",
      "500/500 [==============================] - 18s 36ms/step - loss: 1.0621 - acc: 0.6754 - val_loss: 11.7074 - val_acc: 0.2568\n",
      "Epoch 26/100\n",
      "500/500 [==============================] - 18s 36ms/step - loss: 1.0571 - acc: 0.6786 - val_loss: 11.0290 - val_acc: 0.2931\n",
      "Epoch 27/100\n",
      "500/500 [==============================] - 18s 36ms/step - loss: 1.0576 - acc: 0.6788 - val_loss: 11.8342 - val_acc: 0.2470\n",
      "Epoch 28/100\n",
      "500/500 [==============================] - 18s 36ms/step - loss: 1.0505 - acc: 0.6813 - val_loss: 10.7881 - val_acc: 0.3082\n",
      "Epoch 29/100\n",
      "500/500 [==============================] - 18s 36ms/step - loss: 1.0425 - acc: 0.6812 - val_loss: 11.3029 - val_acc: 0.2793\n",
      "Epoch 30/100\n",
      "500/500 [==============================] - 18s 36ms/step - loss: 1.0438 - acc: 0.6824 - val_loss: 11.0286 - val_acc: 0.2948\n",
      "Epoch 31/100\n",
      "500/500 [==============================] - 18s 36ms/step - loss: 1.0426 - acc: 0.6844 - val_loss: 11.2425 - val_acc: 0.2802\n",
      "Epoch 32/100\n",
      "500/500 [==============================] - 18s 36ms/step - loss: 1.0378 - acc: 0.6871 - val_loss: 11.8260 - val_acc: 0.2507\n",
      "Epoch 33/100\n",
      "500/500 [==============================] - 18s 36ms/step - loss: 1.0354 - acc: 0.6880 - val_loss: 11.1337 - val_acc: 0.2858\n",
      "Epoch 34/100\n",
      "500/500 [==============================] - 18s 36ms/step - loss: 1.0299 - acc: 0.6879 - val_loss: 11.3465 - val_acc: 0.2810\n",
      "Epoch 35/100\n",
      "500/500 [==============================] - 18s 36ms/step - loss: 1.0344 - acc: 0.6879 - val_loss: 11.0440 - val_acc: 0.3030\n",
      "Epoch 36/100\n",
      "500/500 [==============================] - 18s 36ms/step - loss: 1.0326 - acc: 0.6872 - val_loss: 10.8049 - val_acc: 0.3016\n",
      "Epoch 37/100\n",
      "500/500 [==============================] - 18s 36ms/step - loss: 1.0254 - acc: 0.6917 - val_loss: 11.0406 - val_acc: 0.3005\n",
      "Epoch 38/100\n",
      "500/500 [==============================] - 18s 36ms/step - loss: 1.0241 - acc: 0.6918 - val_loss: 12.4711 - val_acc: 0.2179\n",
      "Epoch 39/100\n",
      "500/500 [==============================] - 18s 36ms/step - loss: 1.0240 - acc: 0.6895 - val_loss: 11.2949 - val_acc: 0.2757\n",
      "Epoch 40/100\n",
      "500/500 [==============================] - 18s 36ms/step - loss: 1.0205 - acc: 0.6927 - val_loss: 10.6708 - val_acc: 0.3171\n",
      "Epoch 41/100\n",
      "500/500 [==============================] - 18s 36ms/step - loss: 1.0188 - acc: 0.6924 - val_loss: 11.2822 - val_acc: 0.2796\n",
      "Epoch 42/100\n",
      "500/500 [==============================] - 18s 36ms/step - loss: 1.0182 - acc: 0.6928 - val_loss: 11.0565 - val_acc: 0.2795\n",
      "Epoch 43/100\n",
      "500/500 [==============================] - 18s 36ms/step - loss: 1.0190 - acc: 0.6938 - val_loss: 11.5853 - val_acc: 0.2659\n",
      "Epoch 44/100\n",
      "500/500 [==============================] - 18s 36ms/step - loss: 1.0190 - acc: 0.6935 - val_loss: 11.3209 - val_acc: 0.2788\n",
      "Epoch 45/100\n",
      "500/500 [==============================] - 18s 36ms/step - loss: 1.0193 - acc: 0.6915 - val_loss: 11.2443 - val_acc: 0.2743\n",
      "Epoch 46/100\n",
      "500/500 [==============================] - 18s 36ms/step - loss: 1.0077 - acc: 0.6972 - val_loss: 10.8751 - val_acc: 0.3025\n",
      "Epoch 47/100\n",
      "500/500 [==============================] - 18s 36ms/step - loss: 1.0097 - acc: 0.6958 - val_loss: 11.3672 - val_acc: 0.2676\n",
      "Epoch 48/100\n",
      "500/500 [==============================] - 18s 36ms/step - loss: 1.0102 - acc: 0.6963 - val_loss: 11.4294 - val_acc: 0.2692\n",
      "Epoch 49/100\n",
      "500/500 [==============================] - 18s 36ms/step - loss: 1.0072 - acc: 0.6975 - val_loss: 11.2066 - val_acc: 0.2809\n",
      "Epoch 50/100\n",
      "500/500 [==============================] - 18s 36ms/step - loss: 1.0053 - acc: 0.6971 - val_loss: 10.9741 - val_acc: 0.2971\n",
      "Epoch 51/100\n",
      "500/500 [==============================] - 18s 36ms/step - loss: 1.0029 - acc: 0.7000 - val_loss: 10.4671 - val_acc: 0.3283\n",
      "Epoch 52/100\n",
      "500/500 [==============================] - 18s 36ms/step - loss: 1.0030 - acc: 0.6967 - val_loss: 11.1407 - val_acc: 0.2833\n",
      "Epoch 53/100\n",
      "500/500 [==============================] - 18s 36ms/step - loss: 1.0035 - acc: 0.6979 - val_loss: 9.7769 - val_acc: 0.3459\n",
      "Epoch 54/100\n",
      "500/500 [==============================] - 18s 36ms/step - loss: 1.0033 - acc: 0.6992 - val_loss: 10.7124 - val_acc: 0.3020\n",
      "Epoch 55/100\n",
      "500/500 [==============================] - 18s 36ms/step - loss: 0.9932 - acc: 0.7001 - val_loss: 10.9204 - val_acc: 0.2851\n",
      "Epoch 56/100\n",
      "500/500 [==============================] - 19s 37ms/step - loss: 0.9994 - acc: 0.7008 - val_loss: 11.4581 - val_acc: 0.2672\n",
      "Epoch 57/100\n",
      "500/500 [==============================] - 18s 36ms/step - loss: 0.9973 - acc: 0.6990 - val_loss: 12.1093 - val_acc: 0.2219\n",
      "Epoch 58/100\n",
      "500/500 [==============================] - 18s 36ms/step - loss: 0.9914 - acc: 0.7005 - val_loss: 11.6135 - val_acc: 0.2513\n",
      "Epoch 59/100\n",
      "500/500 [==============================] - 18s 36ms/step - loss: 0.9903 - acc: 0.7019 - val_loss: 10.6889 - val_acc: 0.3112\n",
      "Epoch 60/100\n",
      "500/500 [==============================] - 18s 36ms/step - loss: 0.9844 - acc: 0.7047 - val_loss: 10.6937 - val_acc: 0.3059\n",
      "Epoch 61/100\n",
      "500/500 [==============================] - 18s 36ms/step - loss: 0.9913 - acc: 0.7006 - val_loss: 11.2275 - val_acc: 0.2708\n"
     ]
    },
    {
     "name": "stdout",
     "output_type": "stream",
     "text": [
      "Epoch 62/100\n",
      "500/500 [==============================] - 18s 36ms/step - loss: 0.9842 - acc: 0.7038 - val_loss: 9.8701 - val_acc: 0.3405\n",
      "Epoch 63/100\n",
      "500/500 [==============================] - 18s 36ms/step - loss: 0.9859 - acc: 0.7037 - val_loss: 10.3190 - val_acc: 0.3216\n",
      "Epoch 64/100\n",
      "500/500 [==============================] - 18s 36ms/step - loss: 0.9891 - acc: 0.7029 - val_loss: 11.2561 - val_acc: 0.2714\n",
      "Epoch 65/100\n",
      "500/500 [==============================] - 18s 36ms/step - loss: 0.9852 - acc: 0.7040 - val_loss: 10.4276 - val_acc: 0.3189\n",
      "Epoch 66/100\n",
      "500/500 [==============================] - 18s 36ms/step - loss: 0.9869 - acc: 0.7036 - val_loss: 10.7107 - val_acc: 0.3060\n",
      "Epoch 67/100\n",
      "500/500 [==============================] - 18s 36ms/step - loss: 0.9848 - acc: 0.7027 - val_loss: 10.8304 - val_acc: 0.2961\n",
      "Epoch 68/100\n",
      "500/500 [==============================] - 18s 36ms/step - loss: 0.9841 - acc: 0.7033 - val_loss: 10.3305 - val_acc: 0.3223\n",
      "Epoch 69/100\n",
      "500/500 [==============================] - 18s 36ms/step - loss: 0.9882 - acc: 0.7038 - val_loss: 10.6605 - val_acc: 0.3054\n",
      "Epoch 70/100\n",
      "500/500 [==============================] - 18s 36ms/step - loss: 0.9833 - acc: 0.7044 - val_loss: 10.7221 - val_acc: 0.3076\n",
      "Epoch 71/100\n",
      "500/500 [==============================] - 18s 36ms/step - loss: 0.9830 - acc: 0.7048 - val_loss: 9.9749 - val_acc: 0.3222\n",
      "Epoch 72/100\n",
      "500/500 [==============================] - 18s 36ms/step - loss: 0.9774 - acc: 0.7066 - val_loss: 10.3149 - val_acc: 0.3203\n",
      "Epoch 73/100\n",
      "500/500 [==============================] - 18s 36ms/step - loss: 0.9800 - acc: 0.7067 - val_loss: 10.3297 - val_acc: 0.3265\n",
      "Epoch 74/100\n",
      "500/500 [==============================] - 18s 36ms/step - loss: 0.9798 - acc: 0.7071 - val_loss: 10.2633 - val_acc: 0.3057\n",
      "Epoch 75/100\n",
      "500/500 [==============================] - 18s 36ms/step - loss: 0.9767 - acc: 0.7061 - val_loss: 10.4138 - val_acc: 0.3224\n",
      "Epoch 76/100\n",
      "500/500 [==============================] - 18s 36ms/step - loss: 0.9769 - acc: 0.7083 - val_loss: 10.6625 - val_acc: 0.3001\n",
      "Epoch 77/100\n",
      "500/500 [==============================] - 18s 36ms/step - loss: 0.9684 - acc: 0.7114 - val_loss: 9.6188 - val_acc: 0.3339\n",
      "Epoch 78/100\n",
      "500/500 [==============================] - 18s 36ms/step - loss: 0.9741 - acc: 0.7080 - val_loss: 11.0874 - val_acc: 0.2807\n",
      "Epoch 79/100\n",
      "500/500 [==============================] - 18s 36ms/step - loss: 0.9735 - acc: 0.7080 - val_loss: 10.4711 - val_acc: 0.3129\n",
      "Epoch 80/100\n",
      "500/500 [==============================] - 18s 36ms/step - loss: 0.9675 - acc: 0.7098 - val_loss: 10.5178 - val_acc: 0.3018\n",
      "Epoch 81/100\n",
      "500/500 [==============================] - 18s 36ms/step - loss: 0.9801 - acc: 0.7043 - val_loss: 10.7718 - val_acc: 0.2893\n",
      "Epoch 82/100\n",
      "500/500 [==============================] - 18s 36ms/step - loss: 0.9698 - acc: 0.7122 - val_loss: 10.5521 - val_acc: 0.3132\n",
      "Epoch 83/100\n",
      "500/500 [==============================] - 18s 36ms/step - loss: 0.9724 - acc: 0.7083 - val_loss: 11.1235 - val_acc: 0.2807\n",
      "Epoch 84/100\n",
      "500/500 [==============================] - 18s 36ms/step - loss: 0.9741 - acc: 0.7083 - val_loss: 9.8987 - val_acc: 0.3404\n",
      "Epoch 85/100\n",
      "500/500 [==============================] - 18s 36ms/step - loss: 0.9672 - acc: 0.7121 - val_loss: 10.3337 - val_acc: 0.3187\n",
      "Epoch 86/100\n",
      "500/500 [==============================] - 18s 36ms/step - loss: 0.9740 - acc: 0.7106 - val_loss: 12.2628 - val_acc: 0.2214\n",
      "Epoch 87/100\n",
      "500/500 [==============================] - 18s 36ms/step - loss: 0.9636 - acc: 0.7123 - val_loss: 11.2701 - val_acc: 0.2736\n",
      "Epoch 88/100\n",
      "500/500 [==============================] - 18s 36ms/step - loss: 0.9657 - acc: 0.7102 - val_loss: 11.0342 - val_acc: 0.2794\n",
      "Epoch 89/100\n",
      "500/500 [==============================] - 18s 36ms/step - loss: 0.9650 - acc: 0.7136 - val_loss: 10.5547 - val_acc: 0.3062\n",
      "Epoch 90/100\n",
      "500/500 [==============================] - 18s 36ms/step - loss: 0.9667 - acc: 0.7122 - val_loss: 10.6187 - val_acc: 0.3076\n",
      "Epoch 91/100\n",
      "500/500 [==============================] - 18s 36ms/step - loss: 0.9684 - acc: 0.7126 - val_loss: 10.0698 - val_acc: 0.3351\n",
      "Epoch 92/100\n",
      "500/500 [==============================] - 18s 36ms/step - loss: 0.9670 - acc: 0.7110 - val_loss: 10.9411 - val_acc: 0.2844\n",
      "Epoch 93/100\n",
      "500/500 [==============================] - 18s 36ms/step - loss: 0.9649 - acc: 0.7125 - val_loss: 11.1777 - val_acc: 0.2695\n",
      "Epoch 94/100\n",
      "500/500 [==============================] - 18s 36ms/step - loss: 0.9660 - acc: 0.7100 - val_loss: 10.1348 - val_acc: 0.3380\n",
      "Epoch 95/100\n",
      "500/500 [==============================] - 18s 35ms/step - loss: 0.9620 - acc: 0.7124 - val_loss: 10.5952 - val_acc: 0.3080\n",
      "Epoch 96/100\n",
      "500/500 [==============================] - 18s 36ms/step - loss: 0.9669 - acc: 0.7087 - val_loss: 11.1628 - val_acc: 0.2796\n",
      "Epoch 97/100\n",
      "500/500 [==============================] - 18s 36ms/step - loss: 0.9537 - acc: 0.7160 - val_loss: 10.8123 - val_acc: 0.2826\n",
      "Epoch 98/100\n",
      "500/500 [==============================] - 18s 36ms/step - loss: 0.9617 - acc: 0.7136 - val_loss: 11.0298 - val_acc: 0.2848\n",
      "Epoch 99/100\n",
      "500/500 [==============================] - 18s 36ms/step - loss: 0.9663 - acc: 0.7113 - val_loss: 10.8832 - val_acc: 0.2858\n",
      "Epoch 100/100\n",
      "500/500 [==============================] - 18s 36ms/step - loss: 0.9658 - acc: 0.7119 - val_loss: 10.0830 - val_acc: 0.3246\n"
     ]
    },
    {
     "data": {
      "text/plain": [
       "<keras.callbacks.History at 0x2673a693608>"
      ]
     },
     "execution_count": 6,
     "metadata": {},
     "output_type": "execute_result"
    }
   ],
   "source": [
    "##開始訓練\n",
    "classifier.fit_generator(img_gen.flow(x_train, y_train, batch_size=100) ,steps_per_epoch=500,\n",
    "                               epochs=100, validation_data = (x_test, y_test),callbacks = [earlystop])\n",
    "#classifier.fit_generator(img_gen.flow(x_train, y_train, batch_size=10) ,steps_per_epoch=100,\n",
    "                               #epochs=10, validation_data = (x_test, y_test))"
   ]
  },
  {
   "cell_type": "markdown",
   "metadata": {},
   "source": [
    "## 預測新圖片，輸入影像前處理要與訓練時相同\n",
    "#### ((X-mean)/(std+1e-7) ):這裡的mean跟std是訓練集的\n",
    "## 維度如下方示範"
   ]
  },
  {
   "cell_type": "code",
   "execution_count": 7,
   "metadata": {},
   "outputs": [
    {
     "data": {
      "text/plain": [
       "array([[0.01225243, 0.01201329, 0.39436224, 0.14676644, 0.08438788,\n",
       "        0.04454466, 0.10317219, 0.00315163, 0.19650954, 0.00283965]],\n",
       "      dtype=float32)"
      ]
     },
     "execution_count": 7,
     "metadata": {},
     "output_type": "execute_result"
    }
   ],
   "source": [
    "input_example=(np.zeros(shape=(1,32,32,3))-mean_train)/(std_train+1e-7) \n",
    "classifier.predict(input_example)"
   ]
  },
  {
   "cell_type": "code",
   "execution_count": null,
   "metadata": {},
   "outputs": [],
   "source": []
  }
 ],
 "metadata": {
  "kernelspec": {
   "display_name": "Python 3",
   "language": "python",
   "name": "python3"
  },
  "language_info": {
   "codemirror_mode": {
    "name": "ipython",
    "version": 3
   },
   "file_extension": ".py",
   "mimetype": "text/x-python",
   "name": "python",
   "nbconvert_exporter": "python",
   "pygments_lexer": "ipython3",
   "version": "3.7.4"
  }
 },
 "nbformat": 4,
 "nbformat_minor": 2
}
