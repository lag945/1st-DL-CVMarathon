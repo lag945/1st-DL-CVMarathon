{
 "cells": [
  {
   "cell_type": "markdown",
   "metadata": {},
   "source": [
    "## 『本次練習內容』\n",
    "#### 運用這幾天所學觀念搭建一個CNN分類器"
   ]
  },
  {
   "cell_type": "markdown",
   "metadata": {},
   "source": [
    "## 『本次練習目的』\n",
    "  #### 熟悉CNN分類器搭建步驟與原理\n",
    "  #### 學員們可以嘗試不同搭法，如使用不同的Maxpooling層，用GlobalAveragePooling取代Flatten等等"
   ]
  },
  {
   "cell_type": "code",
   "execution_count": 2,
   "metadata": {},
   "outputs": [
    {
     "name": "stderr",
     "output_type": "stream",
     "text": [
      "Using TensorFlow backend.\n"
     ]
    }
   ],
   "source": [
    "from keras.models import Sequential\n",
    "from keras.layers import Convolution2D\n",
    "from keras.layers import MaxPooling2D\n",
    "from keras.layers import Flatten\n",
    "from keras.layers import Dense\n",
    "from keras.layers import Dropout\n",
    "from keras.layers import BatchNormalization\n",
    "from keras.datasets import cifar10\n",
    "import numpy as np\n",
    "import tensorflow as tf\n",
    "from sklearn.preprocessing import OneHotEncoder\n",
    "from keras import regularizers"
   ]
  },
  {
   "cell_type": "code",
   "execution_count": 3,
   "metadata": {},
   "outputs": [
    {
     "name": "stdout",
     "output_type": "stream",
     "text": [
      "Downloading data from https://www.cs.toronto.edu/~kriz/cifar-10-python.tar.gz\n",
      "170500096/170498071 [==============================] - 22s 0us/step\n",
      "(50000, 32, 32, 3)\n"
     ]
    }
   ],
   "source": [
    "(x_train, y_train), (x_test, y_test) = cifar10.load_data() # x是圖片,y是答案label\n",
    "\n",
    "print(x_train.shape) #(50000, 32, 32, 3)\n",
    "\n",
    "## Normalize Data\n",
    "def normalize(X_train,X_test):\n",
    "        mean = np.mean(X_train,axis=(0,1,2,3))\n",
    "        std = np.std(X_train, axis=(0, 1, 2, 3))\n",
    "        X_train = (X_train-mean)/(std+1e-7)\n",
    "        X_test = (X_test-mean)/(std+1e-7) \n",
    "        return X_train, X_test,mean,std\n",
    "    \n",
    "    \n",
    "## Normalize Training and Testset    \n",
    "x_train, x_test,mean_train,std_train = normalize(x_train, x_test) "
   ]
  },
  {
   "cell_type": "code",
   "execution_count": 6,
   "metadata": {},
   "outputs": [
    {
     "data": {
      "image/png": "[encoded data removed]",
      "text/plain": [
       "<Figure size 144x144 with 1 Axes>"
      ]
     },
     "metadata": {
      "needs_background": "light"
     },
     "output_type": "display_data"
    },
    {
     "name": "stdout",
     "output_type": "stream",
     "text": [
      "[6]\n"
     ]
    }
   ],
   "source": [
    "#Cifar-10 的所有圖片被分為 10 個類別 (以 0~9 數字作為 Label 之編碼) :\n",
    "#0 : airplain (飛機)\n",
    "#1 : automobile (汽車)\n",
    "#2 : bird (鳥)\n",
    "#3 : cat (貓)\n",
    "#4 : deer (鹿)\n",
    "#5 : dog (狗)\n",
    "#6 : frog (青蛙)\n",
    "#7 : horse (馬)\n",
    "#8 : ship (船)\n",
    "#9 : truck (卡車)\n",
    "(x_train, y_train), (x_test, y_test) = cifar10.load_data() # x是圖片,y是答案label\n",
    "import matplotlib.pyplot as plt\n",
    "\n",
    "def plot_image(image):\n",
    "    fig=plt.gcf()\n",
    "    fig.set_size_inches(2, 2)                          \n",
    "    plt.imshow(image, cmap='binary')\n",
    "    plt.show()\n",
    "\n",
    "plot_image(x_train[0])\n",
    "print(y_train[0]) "
   ]
  },
  {
   "cell_type": "code",
   "execution_count": 7,
   "metadata": {},
   "outputs": [
    {
     "name": "stderr",
     "output_type": "stream",
     "text": [
      "C:\\Users\\lag94\\Anaconda3\\lib\\site-packages\\sklearn\\preprocessing\\_encoders.py:415: FutureWarning: The handling of integer data will change in version 0.22. Currently, the categories are determined based on the range [0, max(values)], while in the future they will be determined based on the unique values.\n",
      "If you want the future behaviour and silence this warning, you can specify \"categories='auto'\".\n",
      "In case you used a LabelEncoder before this OneHotEncoder to convert the categories to integers, then you can now use the OneHotEncoder directly.\n",
      "  warnings.warn(msg, FutureWarning)\n"
     ]
    }
   ],
   "source": [
    "## OneHot Label 由(None, 1)-(None, 10)\n",
    "## ex. label=2,變成[0,0,1,0,0,0,0,0,0,0]\n",
    "one_hot=OneHotEncoder()\n",
    "y_train=one_hot.fit_transform(y_train).toarray()\n",
    "y_test=one_hot.transform(y_test).toarray()"
   ]
  },
  {
   "cell_type": "code",
   "execution_count": 8,
   "metadata": {},
   "outputs": [],
   "source": [
    "classifier=Sequential()\n",
    "\n",
    "#卷積組合\n",
    "classifier.add(Convolution2D(32,(3,3),input_shape=(32,32,3),activation='relu'))\n",
    "classifier.add(BatchNormalization())##BatchNormalization\n",
    "classifier.add(MaxPooling2D(pool_size=(2,2)))\n",
    "\n",
    "#卷積組合\n",
    "classifier.add(Convolution2D(32,(3,3),activation='relu'))\n",
    "classifier.add(BatchNormalization())##BatchNormalization\n",
    "classifier.add(MaxPooling2D(pool_size=(2,2)))\n",
    "\n",
    "#flatten\n",
    "classifier.add(Flatten())\n",
    "\n",
    "#FC\n",
    "classifier.add(Dense(units=100,activation='relu',kernel_regularizer=regularizers.l2(l=0.001))) ##regularizers\n",
    "classifier.add(BatchNormalization()) ##BatchNormalization\n",
    "classifier.add(Dropout(rate=0.5)) ##Dropout\n",
    "\n",
    "classifier.add(Dense(units=100,activation='relu',kernel_regularizer=regularizers.l2(0.001)))##regularizers\n",
    "classifier.add(BatchNormalization()) ##BatchNormalization\n",
    "\n",
    "classifier.add(Dropout(rate=0.3))##Dropout\n",
    "\n",
    "classifier.add(Dense(units=10,activation='softmax'))\n",
    "#超過兩個就要選categorical_crossentrophy\n",
    "classifier.compile(optimizer = 'adam', loss = 'categorical_crossentropy', metrics = ['accuracy'])\n",
    "from keras.preprocessing.image import ImageDataGenerator ##Augmentation\n",
    "img_gen = ImageDataGenerator( featurewise_center=True,featurewise_std_normalization=True,rotation_range=10,width_shift_range=0.1,\n",
    "                                            height_shift_range=0.1,shear_range=0.1,zoom_range=0.1,horizontal_flip=True,vertical_flip=False,dtype=np.float32)\n",
    "img_gen.fit(x_train)\n",
    "from keras.callbacks import EarlyStopping\n",
    "earlystop = EarlyStopping(monitor='test_loss', patience=8, verbose=1) ##earlystop\n"
   ]
  },
  {
   "cell_type": "code",
   "execution_count": 9,
   "metadata": {},
   "outputs": [
    {
     "name": "stdout",
     "output_type": "stream",
     "text": [
      "3.7.4 (default, Aug  9 2019, 18:34:13) [MSC v.1915 64 bit (AMD64)]\n",
      "2.1.0\n",
      "WARNING:tensorflow:From <ipython-input-9-a0e46a2f8859>:6: is_gpu_available (from tensorflow.python.framework.test_util) is deprecated and will be removed in a future version.\n",
      "Instructions for updating:\n",
      "Use `tf.config.list_physical_devices('GPU')` instead.\n",
      "True\n",
      "Num GPUs Available:  1\n"
     ]
    },
    {
     "ename": "RuntimeError",
     "evalue": "Device placement logging must be set at program startup",
     "output_type": "error",
     "traceback": [
      "\u001b[1;31m---------------------------------------------------------------------------\u001b[0m",
      "\u001b[1;31mRuntimeError\u001b[0m                              Traceback (most recent call last)",
      "\u001b[1;32m<ipython-input-9-a0e46a2f8859>\u001b[0m in \u001b[0;36m<module>\u001b[1;34m\u001b[0m\n\u001b[0;32m      6\u001b[0m \u001b[0mprint\u001b[0m\u001b[1;33m(\u001b[0m\u001b[0mtf\u001b[0m\u001b[1;33m.\u001b[0m\u001b[0mtest\u001b[0m\u001b[1;33m.\u001b[0m\u001b[0mis_gpu_available\u001b[0m\u001b[1;33m(\u001b[0m\u001b[1;33m)\u001b[0m\u001b[1;33m)\u001b[0m\u001b[1;33m\u001b[0m\u001b[1;33m\u001b[0m\u001b[0m\n\u001b[0;32m      7\u001b[0m \u001b[0mprint\u001b[0m\u001b[1;33m(\u001b[0m\u001b[1;34m\"Num GPUs Available: \"\u001b[0m\u001b[1;33m,\u001b[0m \u001b[0mlen\u001b[0m\u001b[1;33m(\u001b[0m\u001b[0mtf\u001b[0m\u001b[1;33m.\u001b[0m\u001b[0mconfig\u001b[0m\u001b[1;33m.\u001b[0m\u001b[0mlist_physical_devices\u001b[0m\u001b[1;33m(\u001b[0m\u001b[1;34m'GPU'\u001b[0m\u001b[1;33m)\u001b[0m\u001b[1;33m)\u001b[0m\u001b[1;33m)\u001b[0m\u001b[1;33m\u001b[0m\u001b[1;33m\u001b[0m\u001b[0m\n\u001b[1;32m----> 8\u001b[1;33m \u001b[0mtf\u001b[0m\u001b[1;33m.\u001b[0m\u001b[0mdebugging\u001b[0m\u001b[1;33m.\u001b[0m\u001b[0mset_log_device_placement\u001b[0m\u001b[1;33m(\u001b[0m\u001b[1;32mTrue\u001b[0m\u001b[1;33m)\u001b[0m\u001b[1;33m\u001b[0m\u001b[1;33m\u001b[0m\u001b[0m\n\u001b[0m\u001b[0;32m      9\u001b[0m \u001b[1;33m\u001b[0m\u001b[0m\n\u001b[0;32m     10\u001b[0m \u001b[1;31m# Create some tensors\u001b[0m\u001b[1;33m\u001b[0m\u001b[1;33m\u001b[0m\u001b[1;33m\u001b[0m\u001b[0m\n",
      "\u001b[1;32m~\\Anaconda3\\lib\\site-packages\\tensorflow_core\\python\\eager\\context.py\u001b[0m in \u001b[0;36mset_log_device_placement\u001b[1;34m(enabled)\u001b[0m\n\u001b[0;32m   1853\u001b[0m     \u001b[0menabled\u001b[0m\u001b[1;33m:\u001b[0m \u001b[0mWhether\u001b[0m \u001b[0mto\u001b[0m \u001b[0menabled\u001b[0m \u001b[0mdevice\u001b[0m \u001b[0mplacement\u001b[0m \u001b[0mlogging\u001b[0m\u001b[1;33m.\u001b[0m\u001b[1;33m\u001b[0m\u001b[1;33m\u001b[0m\u001b[0m\n\u001b[0;32m   1854\u001b[0m   \"\"\"\n\u001b[1;32m-> 1855\u001b[1;33m   \u001b[0mcontext\u001b[0m\u001b[1;33m(\u001b[0m\u001b[1;33m)\u001b[0m\u001b[1;33m.\u001b[0m\u001b[0mlog_device_placement\u001b[0m \u001b[1;33m=\u001b[0m \u001b[0menabled\u001b[0m\u001b[1;33m\u001b[0m\u001b[1;33m\u001b[0m\u001b[0m\n\u001b[0m\u001b[0;32m   1856\u001b[0m \u001b[1;33m\u001b[0m\u001b[0m\n\u001b[0;32m   1857\u001b[0m \u001b[1;33m\u001b[0m\u001b[0m\n",
      "\u001b[1;32m~\\Anaconda3\\lib\\site-packages\\tensorflow_core\\python\\eager\\context.py\u001b[0m in \u001b[0;36mlog_device_placement\u001b[1;34m(self, enabled)\u001b[0m\n\u001b[0;32m   1403\u001b[0m     \u001b[1;32mif\u001b[0m \u001b[0mself\u001b[0m\u001b[1;33m.\u001b[0m\u001b[0m_context_handle\u001b[0m \u001b[1;32mis\u001b[0m \u001b[1;32mnot\u001b[0m \u001b[1;32mNone\u001b[0m\u001b[1;33m:\u001b[0m\u001b[1;33m\u001b[0m\u001b[1;33m\u001b[0m\u001b[0m\n\u001b[0;32m   1404\u001b[0m       raise RuntimeError(\n\u001b[1;32m-> 1405\u001b[1;33m           \"Device placement logging must be set at program startup\")\n\u001b[0m\u001b[0;32m   1406\u001b[0m \u001b[1;33m\u001b[0m\u001b[0m\n\u001b[0;32m   1407\u001b[0m     \u001b[0mself\u001b[0m\u001b[1;33m.\u001b[0m\u001b[0m_log_device_placement\u001b[0m \u001b[1;33m=\u001b[0m \u001b[0menabled\u001b[0m\u001b[1;33m\u001b[0m\u001b[1;33m\u001b[0m\u001b[0m\n",
      "\u001b[1;31mRuntimeError\u001b[0m: Device placement logging must be set at program startup"
     ]
    }
   ],
   "source": [
    "from __future__ import absolute_import, division, print_function, unicode_literals\n",
    "import sys\n",
    "import tensorflow as tf\n",
    "print(sys.version)#3.7.3\n",
    "print(tf.__version__)\n",
    "print(tf.test.is_gpu_available())\n",
    "print(\"Num GPUs Available: \", len(tf.config.list_physical_devices('GPU')))\n",
    "tf.debugging.set_log_device_placement(True)\n",
    "\n",
    "# Create some tensors\n",
    "a = tf.constant([[1.0, 2.0, 3.0], [4.0, 5.0, 6.0]])\n",
    "b = tf.constant([[1.0, 2.0], [3.0, 4.0], [5.0, 6.0]])\n",
    "c = tf.matmul(a, b)\n",
    "\n",
    "print(c)"
   ]
  },
  {
   "cell_type": "code",
   "execution_count": 14,
   "metadata": {
    "scrolled": true
   },
   "outputs": [
    {
     "name": "stdout",
     "output_type": "stream",
     "text": [
      "Epoch 1/100\n",
      "500/500 [==============================] - 17s 34ms/step - loss: 1.3532 - accuracy: 0.5779 - val_loss: 98.5003 - val_accuracy: 0.2498\n",
      "Epoch 2/100\n",
      "500/500 [==============================] - 16s 31ms/step - loss: 1.2971 - accuracy: 0.5903 - val_loss: 115.9629 - val_accuracy: 0.2073\n",
      "Epoch 3/100\n",
      "500/500 [==============================] - 17s 33ms/step - loss: 1.2629 - accuracy: 0.6005 - val_loss: 69.5296 - val_accuracy: 0.2620\n",
      "Epoch 4/100\n",
      "500/500 [==============================] - 15s 31ms/step - loss: 1.2232 - accuracy: 0.6111 - val_loss: 68.3189 - val_accuracy: 0.2721\n",
      "Epoch 5/100\n",
      "500/500 [==============================] - 17s 33ms/step - loss: 1.1979 - accuracy: 0.6219 - val_loss: 61.7774 - val_accuracy: 0.2108\n",
      "Epoch 6/100\n",
      "500/500 [==============================] - 15s 31ms/step - loss: 1.1863 - accuracy: 0.6247 - val_loss: 57.9871 - val_accuracy: 0.2813\n",
      "Epoch 7/100\n",
      "500/500 [==============================] - 17s 33ms/step - loss: 1.1687 - accuracy: 0.6350 - val_loss: 74.6162 - val_accuracy: 0.2553\n",
      "Epoch 8/100\n",
      "500/500 [==============================] - 15s 31ms/step - loss: 1.1524 - accuracy: 0.6405 - val_loss: 91.6066 - val_accuracy: 0.1967\n",
      "Epoch 9/100\n",
      "500/500 [==============================] - 16s 33ms/step - loss: 1.1390 - accuracy: 0.6443 - val_loss: 88.1265 - val_accuracy: 0.2252\n",
      "Epoch 10/100\n",
      "500/500 [==============================] - 15s 31ms/step - loss: 1.1306 - accuracy: 0.6501 - val_loss: 65.0964 - val_accuracy: 0.2378\n",
      "Epoch 11/100\n",
      "500/500 [==============================] - 17s 33ms/step - loss: 1.1308 - accuracy: 0.6501 - val_loss: 49.8564 - val_accuracy: 0.2222\n",
      "Epoch 12/100\n",
      "500/500 [==============================] - 15s 31ms/step - loss: 1.1127 - accuracy: 0.6552 - val_loss: 50.3913 - val_accuracy: 0.2757\n",
      "Epoch 13/100\n",
      "500/500 [==============================] - 17s 33ms/step - loss: 1.1097 - accuracy: 0.6571 - val_loss: 59.8030 - val_accuracy: 0.2215\n",
      "Epoch 14/100\n",
      "500/500 [==============================] - 15s 31ms/step - loss: 1.0968 - accuracy: 0.6641 - val_loss: 51.7193 - val_accuracy: 0.2597\n",
      "Epoch 15/100\n",
      "500/500 [==============================] - 17s 33ms/step - loss: 1.0928 - accuracy: 0.6651 - val_loss: 65.6250 - val_accuracy: 0.2640\n",
      "Epoch 16/100\n",
      "500/500 [==============================] - 15s 31ms/step - loss: 1.0886 - accuracy: 0.6653 - val_loss: 55.2251 - val_accuracy: 0.1934\n",
      "Epoch 17/100\n",
      "500/500 [==============================] - 17s 33ms/step - loss: 1.0780 - accuracy: 0.6707 - val_loss: 42.6723 - val_accuracy: 0.2912\n",
      "Epoch 18/100\n",
      "500/500 [==============================] - 16s 31ms/step - loss: 1.0740 - accuracy: 0.6720 - val_loss: 41.7087 - val_accuracy: 0.2811s - loss: 1.0751 - \n",
      "Epoch 19/100\n",
      "500/500 [==============================] - 17s 34ms/step - loss: 1.0782 - accuracy: 0.6705 - val_loss: 69.9747 - val_accuracy: 0.2497\n",
      "Epoch 20/100\n",
      "500/500 [==============================] - 16s 31ms/step - loss: 1.0664 - accuracy: 0.6723 - val_loss: 60.1596 - val_accuracy: 0.2421\n",
      "Epoch 21/100\n",
      "500/500 [==============================] - 17s 33ms/step - loss: 1.0688 - accuracy: 0.6725 - val_loss: 97.7434 - val_accuracy: 0.2435\n",
      "Epoch 22/100\n",
      "500/500 [==============================] - 16s 31ms/step - loss: 1.0630 - accuracy: 0.6757 - val_loss: 60.8654 - val_accuracy: 0.2135\n",
      "Epoch 23/100\n",
      "500/500 [==============================] - 17s 33ms/step - loss: 1.0569 - accuracy: 0.6763 - val_loss: 68.5641 - val_accuracy: 0.2058\n",
      "Epoch 24/100\n",
      "500/500 [==============================] - 15s 31ms/step - loss: 1.0541 - accuracy: 0.6785 - val_loss: 60.8811 - val_accuracy: 0.2664\n",
      "Epoch 25/100\n",
      "500/500 [==============================] - 17s 33ms/step - loss: 1.0466 - accuracy: 0.6813 - val_loss: 56.4996 - val_accuracy: 0.2447\n",
      "Epoch 26/100\n",
      "500/500 [==============================] - 15s 31ms/step - loss: 1.0467 - accuracy: 0.6784 - val_loss: 56.0784 - val_accuracy: 0.2268\n",
      "Epoch 27/100\n",
      "500/500 [==============================] - 16s 33ms/step - loss: 1.0436 - accuracy: 0.6822 - val_loss: 57.4242 - val_accuracy: 0.2492\n",
      "Epoch 28/100\n",
      "500/500 [==============================] - 16s 31ms/step - loss: 1.0426 - accuracy: 0.6834 - val_loss: 76.6750 - val_accuracy: 0.2436\n",
      "Epoch 29/100\n",
      "500/500 [==============================] - 17s 33ms/step - loss: 1.0444 - accuracy: 0.6835 - val_loss: 81.7835 - val_accuracy: 0.2247\n",
      "Epoch 30/100\n",
      "500/500 [==============================] - 15s 31ms/step - loss: 1.0322 - accuracy: 0.6874 - val_loss: 56.0422 - val_accuracy: 0.2401\n",
      "Epoch 31/100\n",
      "500/500 [==============================] - 17s 33ms/step - loss: 1.0344 - accuracy: 0.6854 - val_loss: 63.5147 - val_accuracy: 0.2660\n",
      "Epoch 32/100\n",
      "500/500 [==============================] - 16s 31ms/step - loss: 1.0344 - accuracy: 0.6858 - val_loss: 60.3167 - val_accuracy: 0.2491\n",
      "Epoch 33/100\n",
      "500/500 [==============================] - 17s 33ms/step - loss: 1.0296 - accuracy: 0.6881 - val_loss: 96.3445 - val_accuracy: 0.1878\n",
      "Epoch 34/100\n",
      "500/500 [==============================] - 16s 31ms/step - loss: 1.0297 - accuracy: 0.6875 - val_loss: 73.8141 - val_accuracy: 0.2099\n",
      "Epoch 35/100\n",
      "500/500 [==============================] - 17s 33ms/step - loss: 1.0299 - accuracy: 0.6902 - val_loss: 67.7530 - val_accuracy: 0.2200\n",
      "Epoch 36/100\n",
      "500/500 [==============================] - 15s 31ms/step - loss: 1.0229 - accuracy: 0.6907 - val_loss: 69.8782 - val_accuracy: 0.1796\n",
      "Epoch 37/100\n",
      "500/500 [==============================] - 17s 33ms/step - loss: 1.0221 - accuracy: 0.6914 - val_loss: 60.7013 - val_accuracy: 0.2218\n",
      "Epoch 38/100\n",
      "500/500 [==============================] - 16s 31ms/step - loss: 1.0235 - accuracy: 0.6902 - val_loss: 58.4395 - val_accuracy: 0.2209\n",
      "Epoch 39/100\n",
      "500/500 [==============================] - 16s 33ms/step - loss: 1.0189 - accuracy: 0.6922 - val_loss: 38.9270 - val_accuracy: 0.2871\n",
      "Epoch 40/100\n",
      "500/500 [==============================] - 15s 31ms/step - loss: 1.0183 - accuracy: 0.6922 - val_loss: 47.1921 - val_accuracy: 0.2638\n",
      "Epoch 41/100\n",
      "500/500 [==============================] - 17s 33ms/step - loss: 1.0130 - accuracy: 0.6948 - val_loss: 94.7602 - val_accuracy: 0.2301\n",
      "Epoch 42/100\n",
      "500/500 [==============================] - 16s 31ms/step - loss: 1.0125 - accuracy: 0.6941 - val_loss: 62.7804 - val_accuracy: 0.2207\n",
      "Epoch 43/100\n",
      "500/500 [==============================] - 17s 33ms/step - loss: 1.0152 - accuracy: 0.6930 - val_loss: 70.2755 - val_accuracy: 0.2327\n",
      "Epoch 44/100\n",
      "500/500 [==============================] - 16s 31ms/step - loss: 1.0115 - accuracy: 0.6950 - val_loss: 76.1503 - val_accuracy: 0.2116\n",
      "Epoch 45/100\n",
      "500/500 [==============================] - 16s 33ms/step - loss: 1.0065 - accuracy: 0.6964 - val_loss: 89.1443 - val_accuracy: 0.1877\n",
      "Epoch 46/100\n",
      "500/500 [==============================] - 15s 31ms/step - loss: 1.0076 - accuracy: 0.6948 - val_loss: 82.4435 - val_accuracy: 0.1938\n",
      "Epoch 47/100\n",
      "500/500 [==============================] - 17s 33ms/step - loss: 1.0109 - accuracy: 0.6951 - val_loss: 62.1680 - val_accuracy: 0.2656\n",
      "Epoch 48/100\n",
      "500/500 [==============================] - 15s 31ms/step - loss: 1.0031 - accuracy: 0.6978 - val_loss: 92.9508 - val_accuracy: 0.2048\n",
      "Epoch 49/100\n",
      "500/500 [==============================] - 17s 33ms/step - loss: 1.0056 - accuracy: 0.6986 - val_loss: 70.2709 - val_accuracy: 0.2181\n",
      "Epoch 50/100\n",
      "500/500 [==============================] - 16s 31ms/step - loss: 1.0018 - accuracy: 0.6973 - val_loss: 84.3882 - val_accuracy: 0.2301\n",
      "Epoch 51/100\n",
      "500/500 [==============================] - 16s 32ms/step - loss: 1.0035 - accuracy: 0.6982 - val_loss: 50.7365 - val_accuracy: 0.2297\n",
      "Epoch 52/100\n",
      "500/500 [==============================] - 16s 31ms/step - loss: 1.0064 - accuracy: 0.6963 - val_loss: 56.6338 - val_accuracy: 0.2532\n",
      "Epoch 53/100\n",
      "500/500 [==============================] - 16s 32ms/step - loss: 1.0001 - accuracy: 0.6987 - val_loss: 63.4616 - val_accuracy: 0.2436\n",
      "Epoch 54/100\n",
      "500/500 [==============================] - 16s 31ms/step - loss: 1.0054 - accuracy: 0.6971 - val_loss: 75.7391 - val_accuracy: 0.2037\n",
      "Epoch 55/100\n",
      "500/500 [==============================] - 16s 32ms/step - loss: 0.9948 - accuracy: 0.7016 - val_loss: 71.5075 - val_accuracy: 0.2357\n",
      "Epoch 56/100\n"
     ]
    },
    {
     "name": "stdout",
     "output_type": "stream",
     "text": [
      "500/500 [==============================] - 16s 31ms/step - loss: 0.9961 - accuracy: 0.7009 - val_loss: 65.1889 - val_accuracy: 0.2095\n",
      "Epoch 57/100\n",
      "500/500 [==============================] - 16s 33ms/step - loss: 1.0005 - accuracy: 0.6979 - val_loss: 91.1389 - val_accuracy: 0.1957\n",
      "Epoch 58/100\n",
      "500/500 [==============================] - 16s 31ms/step - loss: 0.9984 - accuracy: 0.7009 - val_loss: 60.0984 - val_accuracy: 0.2439\n",
      "Epoch 59/100\n",
      "500/500 [==============================] - 16s 33ms/step - loss: 0.9901 - accuracy: 0.7026 - val_loss: 64.5103 - val_accuracy: 0.2272\n",
      "Epoch 60/100\n",
      "500/500 [==============================] - 16s 33ms/step - loss: 0.9939 - accuracy: 0.6998 - val_loss: 121.7136 - val_accuracy: 0.1801\n",
      "Epoch 61/100\n",
      "500/500 [==============================] - 18s 35ms/step - loss: 0.9974 - accuracy: 0.6984 - val_loss: 52.8952 - val_accuracy: 0.2603\n",
      "Epoch 62/100\n",
      "500/500 [==============================] - 16s 32ms/step - loss: 0.9879 - accuracy: 0.7015 - val_loss: 79.5881 - val_accuracy: 0.2015\n",
      "Epoch 63/100\n",
      "500/500 [==============================] - 16s 33ms/step - loss: 0.9919 - accuracy: 0.7012 - val_loss: 97.8086 - val_accuracy: 0.1968\n",
      "Epoch 64/100\n",
      "500/500 [==============================] - 15s 31ms/step - loss: 0.9844 - accuracy: 0.7029 - val_loss: 54.3163 - val_accuracy: 0.2515\n",
      "Epoch 65/100\n",
      "500/500 [==============================] - 16s 33ms/step - loss: 0.9897 - accuracy: 0.7012 - val_loss: 72.6690 - val_accuracy: 0.2252\n",
      "Epoch 66/100\n",
      "500/500 [==============================] - 15s 31ms/step - loss: 0.9833 - accuracy: 0.7042 - val_loss: 68.4284 - val_accuracy: 0.2406\n",
      "Epoch 67/100\n",
      "500/500 [==============================] - 16s 33ms/step - loss: 0.9802 - accuracy: 0.7046 - val_loss: 51.6773 - val_accuracy: 0.2749\n",
      "Epoch 68/100\n",
      "500/500 [==============================] - 15s 31ms/step - loss: 0.9868 - accuracy: 0.7006 - val_loss: 88.2408 - val_accuracy: 0.2060\n",
      "Epoch 69/100\n",
      "500/500 [==============================] - 16s 33ms/step - loss: 0.9869 - accuracy: 0.7045 - val_loss: 55.2329 - val_accuracy: 0.2893\n",
      "Epoch 70/100\n",
      "500/500 [==============================] - 15s 31ms/step - loss: 0.9837 - accuracy: 0.7052 - val_loss: 54.1780 - val_accuracy: 0.2424\n",
      "Epoch 71/100\n",
      "500/500 [==============================] - 16s 33ms/step - loss: 0.9874 - accuracy: 0.7011 - val_loss: 56.4897 - val_accuracy: 0.2340\n",
      "Epoch 72/100\n",
      "500/500 [==============================] - 15s 31ms/step - loss: 0.9846 - accuracy: 0.7049 - val_loss: 53.5235 - val_accuracy: 0.2320\n",
      "Epoch 73/100\n",
      "500/500 [==============================] - 16s 32ms/step - loss: 0.9808 - accuracy: 0.7061 - val_loss: 73.4026 - val_accuracy: 0.2111\n",
      "Epoch 74/100\n",
      "500/500 [==============================] - 16s 31ms/step - loss: 0.9776 - accuracy: 0.7071 - val_loss: 45.3026 - val_accuracy: 0.2780\n",
      "Epoch 75/100\n",
      "500/500 [==============================] - 16s 33ms/step - loss: 0.9747 - accuracy: 0.7080 - val_loss: 60.6734 - val_accuracy: 0.2347\n",
      "Epoch 76/100\n",
      "500/500 [==============================] - 15s 31ms/step - loss: 0.9817 - accuracy: 0.7067 - val_loss: 69.0101 - val_accuracy: 0.2085\n",
      "Epoch 77/100\n",
      "500/500 [==============================] - 17s 33ms/step - loss: 0.9785 - accuracy: 0.7070 - val_loss: 50.5017 - val_accuracy: 0.2233\n",
      "Epoch 78/100\n",
      "500/500 [==============================] - 15s 31ms/step - loss: 0.9836 - accuracy: 0.7043 - val_loss: 56.0642 - val_accuracy: 0.2433\n",
      "Epoch 79/100\n",
      "500/500 [==============================] - 17s 34ms/step - loss: 0.9755 - accuracy: 0.7097 - val_loss: 72.0787 - val_accuracy: 0.2229\n",
      "Epoch 80/100\n",
      "500/500 [==============================] - 15s 31ms/step - loss: 0.9721 - accuracy: 0.7094 - val_loss: 59.7168 - val_accuracy: 0.1985\n",
      "Epoch 81/100\n",
      "500/500 [==============================] - 17s 33ms/step - loss: 0.9744 - accuracy: 0.7065 - val_loss: 42.9503 - val_accuracy: 0.2559\n",
      "Epoch 82/100\n",
      "500/500 [==============================] - 15s 31ms/step - loss: 0.9724 - accuracy: 0.7087 - val_loss: 45.5952 - val_accuracy: 0.2465\n",
      "Epoch 83/100\n",
      "500/500 [==============================] - 15s 30ms/step - loss: 0.9745 - accuracy: 0.7087 - val_loss: 46.1913 - val_accuracy: 0.2341\n",
      "Epoch 84/100\n",
      "500/500 [==============================] - 15s 30ms/step - loss: 0.9661 - accuracy: 0.7122 - val_loss: 79.3716 - val_accuracy: 0.2036\n",
      "Epoch 85/100\n",
      "500/500 [==============================] - 15s 30ms/step - loss: 0.9726 - accuracy: 0.7097 - val_loss: 35.1511 - val_accuracy: 0.2530\n",
      "Epoch 86/100\n",
      "500/500 [==============================] - 15s 30ms/step - loss: 0.9709 - accuracy: 0.7092 - val_loss: 58.8452 - val_accuracy: 0.2225\n",
      "Epoch 87/100\n",
      "500/500 [==============================] - 15s 30ms/step - loss: 0.9744 - accuracy: 0.7072 - val_loss: 38.4893 - val_accuracy: 0.2259\n",
      "Epoch 88/100\n",
      "500/500 [==============================] - 15s 30ms/step - loss: 0.9708 - accuracy: 0.7077 - val_loss: 78.6969 - val_accuracy: 0.1552\n",
      "Epoch 89/100\n",
      "500/500 [==============================] - 15s 30ms/step - loss: 0.9714 - accuracy: 0.7090 - val_loss: 79.7216 - val_accuracy: 0.1745\n",
      "Epoch 90/100\n",
      "500/500 [==============================] - 15s 30ms/step - loss: 0.9679 - accuracy: 0.7105 - val_loss: 41.0622 - val_accuracy: 0.2369\n",
      "Epoch 91/100\n",
      "500/500 [==============================] - 15s 30ms/step - loss: 0.9695 - accuracy: 0.7086 - val_loss: 43.0751 - val_accuracy: 0.2288\n",
      "Epoch 92/100\n",
      "500/500 [==============================] - 15s 30ms/step - loss: 0.9693 - accuracy: 0.7101 - val_loss: 68.3675 - val_accuracy: 0.1963\n",
      "Epoch 93/100\n",
      "500/500 [==============================] - 16s 31ms/step - loss: 0.9710 - accuracy: 0.7093 - val_loss: 40.9534 - val_accuracy: 0.2748\n",
      "Epoch 94/100\n",
      "500/500 [==============================] - 16s 31ms/step - loss: 0.9695 - accuracy: 0.7082 - val_loss: 47.2917 - val_accuracy: 0.2314\n",
      "Epoch 95/100\n",
      "500/500 [==============================] - 15s 30ms/step - loss: 0.9712 - accuracy: 0.7074 - val_loss: 37.2073 - val_accuracy: 0.2569\n",
      "Epoch 96/100\n",
      "500/500 [==============================] - 15s 30ms/step - loss: 0.9669 - accuracy: 0.7103 - val_loss: 24.6455 - val_accuracy: 0.2988\n",
      "Epoch 97/100\n",
      "500/500 [==============================] - 15s 30ms/step - loss: 0.9704 - accuracy: 0.7102 - val_loss: 36.2746 - val_accuracy: 0.2519\n",
      "Epoch 98/100\n",
      "500/500 [==============================] - 15s 30ms/step - loss: 0.9704 - accuracy: 0.7100 - val_loss: 25.7246 - val_accuracy: 0.2913\n",
      "Epoch 99/100\n",
      "500/500 [==============================] - 15s 30ms/step - loss: 0.9630 - accuracy: 0.7119 - val_loss: 46.0399 - val_accuracy: 0.2320\n",
      "Epoch 100/100\n",
      "500/500 [==============================] - 15s 30ms/step - loss: 0.9564 - accuracy: 0.7139 - val_loss: 30.5096 - val_accuracy: 0.2879\n"
     ]
    },
    {
     "data": {
      "text/plain": [
       "<keras.callbacks.callbacks.History at 0x1cf3fa13fc8>"
      ]
     },
     "execution_count": 14,
     "metadata": {},
     "output_type": "execute_result"
    }
   ],
   "source": [
    "##開始訓練\n",
    "classifier.fit_generator(img_gen.flow(x_train, y_train, batch_size=100) ,steps_per_epoch=500,\n",
    "                               epochs=100, validation_data = (x_test, y_test),callbacks = [earlystop])\n",
    "#classifier.fit_generator(img_gen.flow(x_train, y_train, batch_size=10) ,steps_per_epoch=100,\n",
    "                               #epochs=10, validation_data = (x_test, y_test))"
   ]
  },
  {
   "cell_type": "markdown",
   "metadata": {},
   "source": [
    "## 預測新圖片，輸入影像前處理要與訓練時相同\n",
    "#### ((X-mean)/(std+1e-7) ):這裡的mean跟std是訓練集的\n",
    "## 維度如下方示範"
   ]
  },
  {
   "cell_type": "code",
   "execution_count": 15,
   "metadata": {},
   "outputs": [
    {
     "data": {
      "text/plain": [
       "array([[0.0056375 , 0.00144799, 0.05863515, 0.06677468, 0.28529808,\n",
       "        0.00884047, 0.561312  , 0.00396071, 0.00678896, 0.00130454]],\n",
       "      dtype=float32)"
      ]
     },
     "execution_count": 15,
     "metadata": {},
     "output_type": "execute_result"
    }
   ],
   "source": [
    "input_example=(np.zeros(shape=(1,32,32,3))-mean_train)/(std_train+1e-7) \n",
    "classifier.predict(input_example)"
   ]
  },
  {
   "cell_type": "code",
   "execution_count": null,
   "metadata": {},
   "outputs": [],
   "source": []
  }
 ],
 "metadata": {
  "kernelspec": {
   "display_name": "Python 3",
   "language": "python",
   "name": "python3"
  },
  "language_info": {
   "codemirror_mode": {
    "name": "ipython",
    "version": 3
   },
   "file_extension": ".py",
   "mimetype": "text/x-python",
   "name": "python",
   "nbconvert_exporter": "python",
   "pygments_lexer": "ipython3",
   "version": "3.7.4"
  }
 },
 "nbformat": 4,
 "nbformat_minor": 2
}
