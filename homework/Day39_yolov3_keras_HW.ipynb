{
  "nbformat": 4,
  "nbformat_minor": 0,
  "metadata": {
    "accelerator": "GPU",
    "colab": {
      "name": "Day39_yolov3_keras_HW.ipynb",
      "provenance": [],
      "collapsed_sections": [],
      "toc_visible": true
    },
    "kernelspec": {
      "name": "python3",
      "display_name": "Python 3"
    },
    "language_info": {
      "codemirror_mode": {
        "name": "ipython",
        "version": 3
      },
      "file_extension": ".py",
      "mimetype": "text/x-python",
      "name": "python",
      "nbconvert_exporter": "python",
      "pygments_lexer": "ipython3",
      "version": "3.6.1"
    }
  },
  "cells": [
    {
      "cell_type": "markdown",
      "metadata": {
        "colab_type": "text",
        "id": "CG77DrrB2CrU"
      },
      "source": [
        "## 作業\n",
        "該版本的 yolov3 實現邏輯主要寫在 `yolo.py` 中 `YOLO` 這個 class 的 `detect_image` ，其回傳已畫上檢測到的 bboxes 和物件類別的圖片。\n",
        "\n",
        "1. 請嘗試閱讀及盡量理解 `detect_image` 的程式碼片段\n",
        "2. 請修改/模仿 `detect_image` 的寫法，使其回傳 bboxes 的信息、信心度及 bboxes 對應的類別\n"
      ]
    },
    {
      "cell_type": "code",
      "metadata": {
        "colab_type": "code",
        "id": "NCEP-DG0VxlV",
        "outputId": "a59b26ab-1318-41df-8637-4673265f0ba8",
        "colab": {
          "base_uri": "https://localhost:8080/",
          "height": 119
        }
      },
      "source": [
        "%tensorflow_version 1.x # 確保 colob 中使用的 tensorflow 是 1.x 版本而不是 tensorflow 2\n",
        "import tensorflow as tf\n",
        "print(tf.__version__)"
      ],
      "execution_count": 1,
      "outputs": [
        {
          "output_type": "stream",
          "text": [
            "`%tensorflow_version` only switches the major version: `1.x` or `2.x`.\n",
            "You set: `1.x # 確保 colob 中使用的 tensorflow 是 1.x 版本而不是 tensorflow 2`. This will be interpreted as: `1.x`.\n",
            "\n",
            "\n",
            "TensorFlow 1.x selected.\n",
            "1.15.0\n"
          ],
          "name": "stdout"
        }
      ]
    },
    {
      "cell_type": "code",
      "metadata": {
        "colab_type": "code",
        "id": "vELO-PTVxAtm",
        "outputId": "9b0814de-c707-4573-a488-f957bdfee9ac",
        "colab": {
          "base_uri": "https://localhost:8080/",
          "height": 68
        }
      },
      "source": [
        "from google.colab import drive \n",
        "drive.mount('/content/gdrive') # 將 google drive 掛載在 colob，\n",
        "# 下載基於 keras 的 yolov3 程式碼\n",
        "%cd 'gdrive/My Drive'\n",
        "# !git clone https://github.com/qqwweee/keras-yolo3 # 如果之前已經下載過就可以註解掉\n",
        "%cd keras-yolo3"
      ],
      "execution_count": 10,
      "outputs": [
        {
          "output_type": "stream",
          "text": [
            "Drive already mounted at /content/gdrive; to attempt to forcibly remount, call drive.mount(\"/content/gdrive\", force_remount=True).\n",
            "/content/gdrive/My Drive\n",
            "/content/gdrive/My Drive/keras-yolo3\n"
          ],
          "name": "stdout"
        }
      ]
    },
    {
      "cell_type": "code",
      "metadata": {
        "colab_type": "code",
        "id": "Avxgh7T7yp2g",
        "outputId": "0ed00ada-30f2-4f4d-9856-431bb067cffb",
        "colab": {
          "base_uri": "https://localhost:8080/",
          "height": 51
        }
      },
      "source": [
        "import os\n",
        "import subprocess\n",
        "if not os.path.exists(\"model_data/yolo.h5\"):\n",
        "  # 下載 yolov3 的網路權重，並且把權重轉換為 keras 能夠讀取的格式\n",
        "  print(\"Model doesn't exist, downloading...\")\n",
        "  os.system(\"wget https://pjreddie.com/media/files/yolov3.weights\")\n",
        "  print(\"Converting yolov3.weights to yolo.h5...\")\n",
        "  os.system(\"python convert.py yolov3.cfg yolov3.weights model_data/yolo.h5\")\n",
        "else:\n",
        "  print(\"Model exist\")"
      ],
      "execution_count": 4,
      "outputs": [
        {
          "output_type": "stream",
          "text": [
            "Model doesn't exist, downloading...\n",
            "Converting yolov3.weights to yolo.h5...\n"
          ],
          "name": "stdout"
        }
      ]
    },
    {
      "cell_type": "code",
      "metadata": {
        "colab_type": "code",
        "id": "MWPFl6dU1rjr",
        "colab": {}
      },
      "source": [
        "# 下載圖片範例，如果已經下載過就可以註解掉\n",
        "!wget https://github.com/pjreddie/darknet/blob/master/data/dog.jpg?raw=true -O dog.jpg\n",
        "!wget https://github.com/pjreddie/darknet/blob/master/data/horses.jpg?raw=true -O horses.jpg"
      ],
      "execution_count": 0,
      "outputs": []
    },
    {
      "cell_type": "code",
      "metadata": {
        "colab_type": "code",
        "id": "-vhfpWt92WZS",
        "colab": {}
      },
      "source": [
        "# 將 yolo.py 所需要的套件載入\n",
        "import colorsys\n",
        "import os\n",
        "from timeit import default_timer as timer\n",
        "\n",
        "import numpy as np\n",
        "from keras import backend as K\n",
        "from keras.models import load_model\n",
        "from keras.layers import Input\n",
        "from PIL import Image, ImageFont, ImageDraw\n",
        "\n",
        "from yolo3.model import yolo_eval, yolo_body, tiny_yolo_body\n",
        "from yolo3.utils import letterbox_image\n",
        "import os\n",
        "from keras.utils import multi_gpu_model"
      ],
      "execution_count": 0,
      "outputs": []
    },
    {
      "cell_type": "code",
      "metadata": {
        "colab_type": "code",
        "id": "i-AMDH1d4ESV",
        "colab": {}
      },
      "source": [
        "# 定義 YOLO class\n",
        "class YOLO(object):\n",
        "    _defaults = {\n",
        "        \"model_path\": 'model_data/yolo.h5',\n",
        "        \"anchors_path\": 'model_data/yolo_anchors.txt',\n",
        "        \"classes_path\": 'model_data/coco_classes.txt',\n",
        "        \"score\" : 0.3,\n",
        "        \"iou\" : 0.45,\n",
        "        \"model_image_size\" : (416, 416),\n",
        "        \"gpu_num\" : 1,\n",
        "    }\n",
        "\n",
        "    @classmethod\n",
        "    def get_defaults(cls, n):\n",
        "        if n in cls._defaults:\n",
        "            return cls._defaults[n]\n",
        "        else:\n",
        "            return \"Unrecognized attribute name '\" + n + \"'\"\n",
        "\n",
        "    def __init__(self, **kwargs):\n",
        "        self.__dict__.update(self._defaults) # set up default values\n",
        "        self.__dict__.update(kwargs) # and update with user overrides\n",
        "        self.class_names = self._get_class()\n",
        "        self.anchors = self._get_anchors()\n",
        "        self.sess = K.get_session()\n",
        "        self.boxes, self.scores, self.classes = self.generate()\n",
        "\n",
        "    def _get_class(self):\n",
        "        classes_path = os.path.expanduser(self.classes_path)\n",
        "        with open(classes_path) as f:\n",
        "            class_names = f.readlines()\n",
        "        class_names = [c.strip() for c in class_names]\n",
        "        return class_names\n",
        "\n",
        "    def _get_anchors(self):\n",
        "        anchors_path = os.path.expanduser(self.anchors_path)\n",
        "        with open(anchors_path) as f:\n",
        "            anchors = f.readline()\n",
        "        anchors = [float(x) for x in anchors.split(',')]\n",
        "        return np.array(anchors).reshape(-1, 2)\n",
        "\n",
        "    def generate(self):\n",
        "        model_path = os.path.expanduser(self.model_path)\n",
        "        assert model_path.endswith('.h5'), 'Keras model or weights must be a .h5 file.'\n",
        "\n",
        "        # Load model, or construct model and load weights.\n",
        "        num_anchors = len(self.anchors)\n",
        "        num_classes = len(self.class_names)\n",
        "        is_tiny_version = num_anchors==6 # default setting\n",
        "        try:\n",
        "            self.yolo_model = load_model(model_path, compile=False)\n",
        "        except:\n",
        "            self.yolo_model = tiny_yolo_body(Input(shape=(None,None,3)), num_anchors//2, num_classes) \\\n",
        "                if is_tiny_version else yolo_body(Input(shape=(None,None,3)), num_anchors//3, num_classes)\n",
        "            self.yolo_model.load_weights(self.model_path) # make sure model, anchors and classes match\n",
        "        else:\n",
        "            assert self.yolo_model.layers[-1].output_shape[-1] == \\\n",
        "                num_anchors/len(self.yolo_model.output) * (num_classes + 5), \\\n",
        "                'Mismatch between model and given anchor and class sizes'\n",
        "\n",
        "        print('{} model, anchors, and classes loaded.'.format(model_path))\n",
        "\n",
        "        # Generate colors for drawing bounding boxes.\n",
        "        hsv_tuples = [(x / len(self.class_names), 1., 1.)\n",
        "                      for x in range(len(self.class_names))]\n",
        "        self.colors = list(map(lambda x: colorsys.hsv_to_rgb(*x), hsv_tuples))\n",
        "        self.colors = list(\n",
        "            map(lambda x: (int(x[0] * 255), int(x[1] * 255), int(x[2] * 255)),\n",
        "                self.colors))\n",
        "        np.random.seed(10101)  # Fixed seed for consistent colors across runs.\n",
        "        np.random.shuffle(self.colors)  # Shuffle colors to decorrelate adjacent classes.\n",
        "        np.random.seed(None)  # Reset seed to default.\n",
        "\n",
        "        # Generate output tensor targets for filtered bounding boxes.\n",
        "        self.input_image_shape = K.placeholder(shape=(2, ))\n",
        "        if self.gpu_num>=2:\n",
        "            self.yolo_model = multi_gpu_model(self.yolo_model, gpus=self.gpu_num)\n",
        "        boxes, scores, classes = yolo_eval(self.yolo_model.output, self.anchors,\n",
        "                len(self.class_names), self.input_image_shape,\n",
        "                score_threshold=self.score, iou_threshold=self.iou)\n",
        "        return boxes, scores, classes\n",
        "\n",
        "    # 更改 detect_image 使得其回傳需要的信息\n",
        "    def detect_image(self, image):\n",
        "        start = timer()\n",
        "\n",
        "        if self.model_image_size != (None, None):\n",
        "            assert self.model_image_size[0]%32 == 0, 'Multiples of 32 required'\n",
        "            assert self.model_image_size[1]%32 == 0, 'Multiples of 32 required'\n",
        "            boxed_image = letterbox_image(image, tuple(reversed(self.model_image_size)))\n",
        "        else:\n",
        "            new_image_size = (image.width - (image.width % 32),\n",
        "                              image.height - (image.height % 32))\n",
        "            boxed_image = letterbox_image(image, new_image_size)\n",
        "        image_data = np.array(boxed_image, dtype='float32')\n",
        "\n",
        "        print(image_data.shape)\n",
        "        image_data /= 255.\n",
        "        image_data = np.expand_dims(image_data, 0)  # Add batch dimension.\n",
        "\n",
        "        out_boxes, out_scores, out_classes = self.sess.run(\n",
        "            [self.boxes, self.scores, self.classes],\n",
        "            feed_dict={\n",
        "                self.yolo_model.input: image_data,\n",
        "                self.input_image_shape: [image.size[1], image.size[0]],\n",
        "                K.learning_phase(): 0\n",
        "            })\n",
        "\n",
        "        print('Found {} boxes for {}'.format(len(out_boxes), 'img'))\n",
        "\n",
        "        font = ImageFont.truetype(font='font/FiraMono-Medium.otf',\n",
        "                    size=np.floor(3e-2 * image.size[1] + 0.5).astype('int32'))\n",
        "        thickness = (image.size[0] + image.size[1]) // 300\n",
        "\n",
        "        for i, c in reversed(list(enumerate(out_classes))):\n",
        "            predicted_class = self.class_names[c]\n",
        "            box = out_boxes[i]\n",
        "            score = out_scores[i]\n",
        "\n",
        "            label = '{} {:.2f}'.format(predicted_class, score)\n",
        "            draw = ImageDraw.Draw(image)\n",
        "            label_size = draw.textsize(label, font)\n",
        "\n",
        "            top, left, bottom, right = box\n",
        "            top = max(0, np.floor(top + 0.5).astype('int32'))\n",
        "            left = max(0, np.floor(left + 0.5).astype('int32'))\n",
        "            bottom = min(image.size[1], np.floor(bottom + 0.5).astype('int32'))\n",
        "            right = min(image.size[0], np.floor(right + 0.5).astype('int32'))\n",
        "            print(label, (left, top), (right, bottom))\n",
        "\n",
        "            if top - label_size[1] >= 0:\n",
        "                text_origin = np.array([left, top - label_size[1]])\n",
        "            else:\n",
        "                text_origin = np.array([left, top + 1])\n",
        "\n",
        "            # My kingdom for a good redistributable image drawing library.\n",
        "            for i in range(thickness):\n",
        "                draw.rectangle(\n",
        "                    [left + i, top + i, right - i, bottom - i],\n",
        "                    outline=self.colors[c])\n",
        "            draw.rectangle(\n",
        "                [tuple(text_origin), tuple(text_origin + label_size)],\n",
        "                fill=self.colors[c])\n",
        "            draw.text(text_origin, label, fill=(0, 0, 0), font=font)\n",
        "            del draw\n",
        "\n",
        "        end = timer()\n",
        "        print(end - start)\n",
        "        return image # Hint: 在這裡更改程式碼即可\n",
        "\n",
        "    # 更改 detect_image 使得其回傳需要的信息\n",
        "    def detect_image_v2(self, image):\n",
        "        start = timer()\n",
        "\n",
        "        if self.model_image_size != (None, None):\n",
        "            assert self.model_image_size[0]%32 == 0, 'Multiples of 32 required'\n",
        "            assert self.model_image_size[1]%32 == 0, 'Multiples of 32 required'\n",
        "            boxed_image = letterbox_image(image, tuple(reversed(self.model_image_size)))\n",
        "        else:\n",
        "            new_image_size = (image.width - (image.width % 32),\n",
        "                              image.height - (image.height % 32))\n",
        "            boxed_image = letterbox_image(image, new_image_size)\n",
        "        image_data = np.array(boxed_image, dtype='float32')\n",
        "\n",
        "        print(image_data.shape)\n",
        "        image_data /= 255.\n",
        "        image_data = np.expand_dims(image_data, 0)  # Add batch dimension.\n",
        "\n",
        "        out_boxes, out_scores, out_classes = self.sess.run(\n",
        "            [self.boxes, self.scores, self.classes],\n",
        "            feed_dict={\n",
        "                self.yolo_model.input: image_data,\n",
        "                self.input_image_shape: [image.size[1], image.size[0]],\n",
        "                K.learning_phase(): 0\n",
        "            })\n",
        "\n",
        "        print('Found {} boxes for {}'.format(len(out_boxes), 'img'))\n",
        "\n",
        "        font = ImageFont.truetype(font='font/FiraMono-Medium.otf',\n",
        "                    size=np.floor(3e-2 * image.size[1] + 0.5).astype('int32'))\n",
        "        thickness = (image.size[0] + image.size[1]) // 300\n",
        "        predicted_classes = np.array([])\n",
        "        for i, c in reversed(list(enumerate(out_classes))):\n",
        "            predicted_class = self.class_names[c]\n",
        "            box = out_boxes[i]\n",
        "            score = out_scores[i]\n",
        "            predicted_classes = np.append(predicted_classes,predicted_class)\n",
        "            label = '{} {:.2f}'.format(predicted_class, score)\n",
        "            draw = ImageDraw.Draw(image)\n",
        "            label_size = draw.textsize(label, font)\n",
        "\n",
        "            top, left, bottom, right = box\n",
        "            top = max(0, np.floor(top + 0.5).astype('int32'))\n",
        "            left = max(0, np.floor(left + 0.5).astype('int32'))\n",
        "            bottom = min(image.size[1], np.floor(bottom + 0.5).astype('int32'))\n",
        "            right = min(image.size[0], np.floor(right + 0.5).astype('int32'))\n",
        "            print(label, (left, top), (right, bottom))\n",
        "\n",
        "            if top - label_size[1] >= 0:\n",
        "                text_origin = np.array([left, top - label_size[1]])\n",
        "            else:\n",
        "                text_origin = np.array([left, top + 1])\n",
        "\n",
        "            # My kingdom for a good redistributable image drawing library.\n",
        "            for i in range(thickness):\n",
        "                draw.rectangle(\n",
        "                    [left + i, top + i, right - i, bottom - i],\n",
        "                    outline=self.colors[c])\n",
        "            draw.rectangle(\n",
        "                [tuple(text_origin), tuple(text_origin + label_size)],\n",
        "                fill=self.colors[c])\n",
        "            draw.text(text_origin, label, fill=(0, 0, 0), font=font)\n",
        "            del draw\n",
        "\n",
        "        end = timer()\n",
        "        print(end - start)\n",
        "\n",
        "        return out_boxes, out_scores, predicted_classes\n",
        "\n",
        "    def close_session(self):\n",
        "        self.sess.close()"
      ],
      "execution_count": 0,
      "outputs": []
    },
    {
      "cell_type": "code",
      "metadata": {
        "colab_type": "code",
        "id": "sncElkSw4l7c",
        "outputId": "76349bd5-1bb2-4c80-ad48-744577627099",
        "colab": {
          "base_uri": "https://localhost:8080/",
          "height": 34
        }
      },
      "source": [
        "yolo = YOLO() # 初始化 YOLO class"
      ],
      "execution_count": 54,
      "outputs": [
        {
          "output_type": "stream",
          "text": [
            "model_data/yolo.h5 model, anchors, and classes loaded.\n"
          ],
          "name": "stdout"
        }
      ]
    },
    {
      "cell_type": "code",
      "metadata": {
        "id": "ojQSI-mb-8ZR",
        "colab_type": "code",
        "colab": {
          "base_uri": "https://localhost:8080/",
          "height": 119
        },
        "outputId": "45be888b-a3eb-43ce-d903-747c012ff6ee"
      },
      "source": [
        "image = Image.open('dog.jpg') \n",
        "results = yolo.detect_image_v2(image)"
      ],
      "execution_count": 55,
      "outputs": [
        {
          "output_type": "stream",
          "text": [
            "(416, 416, 3)\n",
            "Found 3 boxes for img\n",
            "dog 0.99 (128, 224) (314, 537)\n",
            "truck 0.91 (475, 85) (689, 170)\n",
            "bicycle 0.99 (162, 119) (565, 441)\n",
            "4.2982398950000515\n"
          ],
          "name": "stdout"
        }
      ]
    },
    {
      "cell_type": "code",
      "metadata": {
        "id": "z3dmXR37_Igw",
        "colab_type": "code",
        "colab": {
          "base_uri": "https://localhost:8080/",
          "height": 68
        },
        "outputId": "865140a9-0000-4f81-cf39-58cc974203ae"
      },
      "source": [
        "results[0] # boxes"
      ],
      "execution_count": 56,
      "outputs": [
        {
          "output_type": "execute_result",
          "data": {
            "text/plain": [
              "array([[118.69406, 162.05148, 441.46826, 564.937  ],\n",
              "       [ 85.18431, 475.42795, 170.2526 , 688.525  ],\n",
              "       [224.28877, 128.12137, 537.0222 , 313.87128]], dtype=float32)"
            ]
          },
          "metadata": {
            "tags": []
          },
          "execution_count": 56
        }
      ]
    },
    {
      "cell_type": "code",
      "metadata": {
        "id": "yqX_oQjGARyy",
        "colab_type": "code",
        "colab": {
          "base_uri": "https://localhost:8080/",
          "height": 34
        },
        "outputId": "1f75ee58-1977-42db-af13-47dae68ae280"
      },
      "source": [
        "results[1] #scores"
      ],
      "execution_count": 57,
      "outputs": [
        {
          "output_type": "execute_result",
          "data": {
            "text/plain": [
              "array([0.9935904 , 0.9145597 , 0.98965937], dtype=float32)"
            ]
          },
          "metadata": {
            "tags": []
          },
          "execution_count": 57
        }
      ]
    },
    {
      "cell_type": "code",
      "metadata": {
        "id": "xEibR2BKASAB",
        "colab_type": "code",
        "colab": {
          "base_uri": "https://localhost:8080/",
          "height": 34
        },
        "outputId": "b90fcae9-be01-4f15-fd4e-87ecbf681073"
      },
      "source": [
        "results[2] # classes"
      ],
      "execution_count": 58,
      "outputs": [
        {
          "output_type": "execute_result",
          "data": {
            "text/plain": [
              "array(['dog', 'truck', 'bicycle'], dtype='<U32')"
            ]
          },
          "metadata": {
            "tags": []
          },
          "execution_count": 58
        }
      ]
    },
    {
      "cell_type": "code",
      "metadata": {
        "id": "jOa2bQzoBrzo",
        "colab_type": "code",
        "colab": {
          "base_uri": "https://localhost:8080/",
          "height": 34
        },
        "outputId": "87404070-66ac-4a9d-927c-a4209fbd29a1"
      },
      "source": [
        "a = np.array([])\n",
        "a = np.append(a,'123')\n",
        "a = np.append(a,'456')\n",
        "a = np.append(a,'789')\n",
        "a"
      ],
      "execution_count": 52,
      "outputs": [
        {
          "output_type": "execute_result",
          "data": {
            "text/plain": [
              "array(['123', '456', '789'], dtype='<U32')"
            ]
          },
          "metadata": {
            "tags": []
          },
          "execution_count": 52
        }
      ]
    }
  ]
}